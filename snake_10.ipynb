{
  "nbformat": 4,
  "nbformat_minor": 0,
  "metadata": {
    "colab": {
      "name": "snake_10.ipynb",
      "provenance": [],
      "authorship_tag": "ABX9TyNI5RvGRZmOKGjbiuwP1wN2",
      "include_colab_link": true
    },
    "kernelspec": {
      "name": "python3",
      "display_name": "Python 3"
    },
    "accelerator": "TPU"
  },
  "cells": [
    {
      "cell_type": "markdown",
      "metadata": {
        "id": "view-in-github",
        "colab_type": "text"
      },
      "source": [
        "<a href=\"https://colab.research.google.com/github/DarrelDonald/RL_Snake/blob/master/snake_10.ipynb\" target=\"_parent\"><img src=\"https://colab.research.google.com/assets/colab-badge.svg\" alt=\"Open In Colab\"/></a>"
      ]
    },
    {
      "cell_type": "code",
      "metadata": {
        "id": "TUXfyJOHibQJ",
        "colab_type": "code",
        "colab": {}
      },
      "source": [
        "!pip install -q --pre tf-agents[reverb]\n",
        "!pip install -q 'gym==0.10.11'"
      ],
      "execution_count": 71,
      "outputs": []
    },
    {
      "cell_type": "code",
      "metadata": {
        "id": "wcFy3dul0znO",
        "colab_type": "code",
        "colab": {}
      },
      "source": [
        "from __future__ import absolute_import\n",
        "from __future__ import division\n",
        "from __future__ import print_function\n",
        "\n",
        "import abc\n",
        "import tensorflow as tf\n",
        "import numpy as np\n",
        "\n",
        "from tf_agents.environments import py_environment\n",
        "from tf_agents.environments import tf_environment\n",
        "from tf_agents.environments import tf_py_environment\n",
        "from tf_agents.environments import utils\n",
        "from tf_agents.specs import array_spec\n",
        "from tf_agents.environments import wrappers\n",
        "from tf_agents.environments import suite_gym\n",
        "from tf_agents.trajectories import time_step as ts\n",
        "\n",
        "\n",
        "tf.compat.v1.enable_v2_behavior()"
      ],
      "execution_count": 72,
      "outputs": []
    },
    {
      "cell_type": "code",
      "metadata": {
        "id": "lnSE7VngiXEk",
        "colab_type": "code",
        "colab": {}
      },
      "source": [
        "FOOD = 3\n",
        "HEAD = 2\n",
        "BODY = 1\n",
        "EMPTY = 0\n",
        "\n",
        "class SnakeEnv(py_environment.PyEnvironment):\n",
        "\n",
        "  def __init__(self):\n",
        "    self._action_spec = array_spec.BoundedArraySpec(\n",
        "        shape=(), dtype=np.int32, minimum=0, maximum=3, name='action')\n",
        "    self._observation_spec = array_spec.BoundedArraySpec(\n",
        "        shape=(1, 20, 20), dtype=np.int32, minimum=0, maximum=3, name='observation')\n",
        "    self._head = (10, 10)\n",
        "    self._snake = [self._head, (9, 10)]\n",
        "    self._food = (12, 10)\n",
        "    self._grid = [[0 for i in range(20)] for j in range(20)]\n",
        "    self._grid[self._head[1] - 1][self._head[0] - 1] = HEAD\n",
        "    self._grid[self._food[1] - 1][self._food[0] - 1] = FOOD\n",
        "    self._grid[self._snake[1][1] - 1][self._snake[1][0] - 1] = BODY\n",
        "    self._fed = False\n",
        "    self._moves = 0\n",
        "    self._survival_time = 0\n",
        "    self._episode_ended = False\n",
        "\n",
        "  def action_spec(self):\n",
        "    return self._action_spec\n",
        "  \n",
        "  def render(self):\n",
        "    dis = [[[0, 0, 0] for i in range(640)] for j in range(640)]\n",
        "    for i in range(len(self._grid)):\n",
        "      for j in range(len(self._grid[0])):\n",
        "        if self._grid[i][j] == 3:\n",
        "          for m in range(32):\n",
        "            for n in range(32):\n",
        "              dis[32*i+m][32*j+n] = [255, 0, 0]\n",
        "        elif self._grid[i][j] == 2:\n",
        "          for m in range(32):\n",
        "            for n in range(32):\n",
        "              dis[32*i+m][32*j+n] = [100, 255, 100]\n",
        "        elif self._grid[i][j] == 1:\n",
        "          for m in range(32):\n",
        "            for n in range(32):\n",
        "              dis[32*i+m][32*j+n] = [0, 255, 0]\n",
        "        else:\n",
        "          for m in range(32):\n",
        "            for n in range(32):\n",
        "              dis[32*i+m][32*j+n] = [255, 255, 255]\n",
        "    rt = np.asarray(dis, dtype=np.uint8)\n",
        "    return rt\n",
        "\n",
        "\n",
        "  def observation_spec(self):\n",
        "    return self._observation_spec\n",
        "\n",
        "  def _reset(self):\n",
        "    self._head = (10, 10)\n",
        "    self._snake = [self._head, (9, 10)]\n",
        "    self._food = (12, 10)\n",
        "    self._grid = [[0 for i in range(20)] for j in range(20)]\n",
        "    self._grid[self._head[1] - 1][self._head[0] - 1] = HEAD\n",
        "    self._grid[self._food[1] - 1][self._food[0] - 1] = FOOD\n",
        "    self._grid[self._snake[1][1] - 1][self._snake[1][0] - 1] = BODY\n",
        "    self._episode_ended = False\n",
        "    self._moves = 0\n",
        "    self._survival_time = 0\n",
        "    return ts.restart(np.array([self._grid], dtype=np.int32))\n",
        "\n",
        "  def _step(self, action):\n",
        "    self._moves += 1\n",
        "    self._survival_time += 1\n",
        "\n",
        "    if self._episode_ended:\n",
        "      # The last action ended the episode. Ignore the current action and start\n",
        "      # a new episode.\n",
        "      return self.reset()\n",
        "\n",
        "    # Make sure episodes don't go on forever.\n",
        "    if action == 0: # move right\n",
        "      if self._snake[1] != (self._head[0] + 1, self._head[1]):\n",
        "        self._head = (self._head[0] + 1, self._head[1])\n",
        "      else:\n",
        "        self._head = (self._head[0] - 1, self._head[1])\n",
        "\n",
        "    elif action == 1: # move left\n",
        "      if self._snake[1] != (self._head[0] - 1, self._head[1]):\n",
        "        self._head = (self._head[0] - 1, self._head[1])\n",
        "      else:\n",
        "        self._head = (self._head[0] + 1, self._head[1])\n",
        "\n",
        "    elif action == 2: # move up\n",
        "      if self._snake[1] != (self._head[0], self._head[1] + 1):\n",
        "        self._head = (self._head[0], self._head[1] + 1)\n",
        "      else:\n",
        "        self._head = (self._head[0], self._head[1] - 1)\n",
        "\n",
        "    elif action == 3: # move down\n",
        "      if self._snake[1] != (self._head[0], self._head[1] - 1):\n",
        "        self._head = (self._head[0], self._head[1] - 1)\n",
        "      else:\n",
        "        self._head = (self._head[0], self._head[1] + 1)\n",
        "\n",
        "    else:\n",
        "      raise ValueError('`action` should between 0 and 3.')\n",
        "\n",
        "    \n",
        "    dist = abs(self._food[0] - self._head[0]) + abs(self._food[1] - self._head[1])\n",
        "    wall = abs(10 - self._head[0]) + abs(10 - self._head[1])\n",
        "    \n",
        "    for i in range(len(self._snake) - 2) :\n",
        "      if i == self._head:\n",
        "        self._episode_ended = True\n",
        "    \n",
        "    if not 0 <= self._head[0] <= 20 or not 0 <= self._head[1] <= 20:\n",
        "      self._episode_ended = True\n",
        "\n",
        "    if self._moves > 800:\n",
        "      self._episode_ended = True\n",
        "    \n",
        "    if self._head == self._food:\n",
        "      self._fed = True\n",
        "      self._moves = 0\n",
        "      # grow snake\n",
        "      self._snake.append([len(self._snake) - 1])\n",
        "      # move food\n",
        "      while self._food in self._snake or self._food == self._head:\n",
        "        self._food = (np.random.randint(1, 21), np.random.randint(1, 21))\n",
        "\n",
        "    # move snake\n",
        "    for i in range(len(self._snake) - 1, 0, -1):\n",
        "      self._snake[i] = self._snake[i - 1]\n",
        "    self._snake[0] = self._head\n",
        "    \n",
        "    if not self._episode_ended:\n",
        "      self._grid = [[0 for i in range(20)] for j in range(20)]\n",
        "      self._grid[self._head[1] - 1][self._head[0] - 1] = HEAD\n",
        "      self._grid[self._food[1] -1 ][self._food[0] - 1 ] = FOOD\n",
        "      for i in range(len(self._snake) - 1, 0, -1):\n",
        "        self._grid[self._snake[i][1] - 1][self._snake[i][0] - 1] = BODY\n",
        "\n",
        "    reward = len(self._snake) * (40 - dist + self._survival_time - self._moves - wall)\n",
        "    \n",
        "    if self._episode_ended:\n",
        "      return ts.termination(np.array([self._grid], dtype=np.int32), reward)\n",
        "    else:\n",
        "      if self._fed:\n",
        "        self._fed = False\n",
        "      #else:\n",
        "        # reward = reward - dist - self._moves\n",
        "      return ts.transition(\n",
        "          np.array([self._grid], dtype=np.int32), reward, discount=1)"
      ],
      "execution_count": 73,
      "outputs": []
    },
    {
      "cell_type": "code",
      "metadata": {
        "id": "17yGH0lsNVVq",
        "colab_type": "code",
        "colab": {}
      },
      "source": [
        "environment = SnakeEnv()\n",
        "utils.validate_py_environment(environment, episodes=5)"
      ],
      "execution_count": 74,
      "outputs": []
    },
    {
      "cell_type": "code",
      "metadata": {
        "id": "uxodrPIqbFHc",
        "colab_type": "code",
        "colab": {
          "base_uri": "https://localhost:8080/",
          "height": 1000
        },
        "outputId": "c4a4dd96-a46c-4891-9578-7f68c4e56d36"
      },
      "source": [
        "go_right = np.array(0, dtype=np.int32)\n",
        "\n",
        "environment = SnakeEnv()\n",
        "time_step = environment.reset()\n",
        "print(time_step)\n",
        "cumulative_reward = time_step.reward\n",
        "\n",
        "for _ in range(10):\n",
        "  time_step = environment.step(go_right)\n",
        "  print(time_step)\n",
        "  cumulative_reward += time_step.reward\n",
        "\n",
        "time_step = environment.step(go_right)\n",
        "print(time_step)\n",
        "cumulative_reward += time_step.reward\n",
        "print('Final Reward = ', cumulative_reward)"
      ],
      "execution_count": 75,
      "outputs": [
        {
          "output_type": "stream",
          "text": [
            "TimeStep(step_type=array(0, dtype=int32), reward=array(0., dtype=float32), discount=array(1., dtype=float32), observation=array([[[0, 0, 0, 0, 0, 0, 0, 0, 0, 0, 0, 0, 0, 0, 0, 0, 0, 0, 0, 0],\n",
            "        [0, 0, 0, 0, 0, 0, 0, 0, 0, 0, 0, 0, 0, 0, 0, 0, 0, 0, 0, 0],\n",
            "        [0, 0, 0, 0, 0, 0, 0, 0, 0, 0, 0, 0, 0, 0, 0, 0, 0, 0, 0, 0],\n",
            "        [0, 0, 0, 0, 0, 0, 0, 0, 0, 0, 0, 0, 0, 0, 0, 0, 0, 0, 0, 0],\n",
            "        [0, 0, 0, 0, 0, 0, 0, 0, 0, 0, 0, 0, 0, 0, 0, 0, 0, 0, 0, 0],\n",
            "        [0, 0, 0, 0, 0, 0, 0, 0, 0, 0, 0, 0, 0, 0, 0, 0, 0, 0, 0, 0],\n",
            "        [0, 0, 0, 0, 0, 0, 0, 0, 0, 0, 0, 0, 0, 0, 0, 0, 0, 0, 0, 0],\n",
            "        [0, 0, 0, 0, 0, 0, 0, 0, 0, 0, 0, 0, 0, 0, 0, 0, 0, 0, 0, 0],\n",
            "        [0, 0, 0, 0, 0, 0, 0, 0, 0, 0, 0, 0, 0, 0, 0, 0, 0, 0, 0, 0],\n",
            "        [0, 0, 0, 0, 0, 0, 0, 0, 1, 2, 0, 3, 0, 0, 0, 0, 0, 0, 0, 0],\n",
            "        [0, 0, 0, 0, 0, 0, 0, 0, 0, 0, 0, 0, 0, 0, 0, 0, 0, 0, 0, 0],\n",
            "        [0, 0, 0, 0, 0, 0, 0, 0, 0, 0, 0, 0, 0, 0, 0, 0, 0, 0, 0, 0],\n",
            "        [0, 0, 0, 0, 0, 0, 0, 0, 0, 0, 0, 0, 0, 0, 0, 0, 0, 0, 0, 0],\n",
            "        [0, 0, 0, 0, 0, 0, 0, 0, 0, 0, 0, 0, 0, 0, 0, 0, 0, 0, 0, 0],\n",
            "        [0, 0, 0, 0, 0, 0, 0, 0, 0, 0, 0, 0, 0, 0, 0, 0, 0, 0, 0, 0],\n",
            "        [0, 0, 0, 0, 0, 0, 0, 0, 0, 0, 0, 0, 0, 0, 0, 0, 0, 0, 0, 0],\n",
            "        [0, 0, 0, 0, 0, 0, 0, 0, 0, 0, 0, 0, 0, 0, 0, 0, 0, 0, 0, 0],\n",
            "        [0, 0, 0, 0, 0, 0, 0, 0, 0, 0, 0, 0, 0, 0, 0, 0, 0, 0, 0, 0],\n",
            "        [0, 0, 0, 0, 0, 0, 0, 0, 0, 0, 0, 0, 0, 0, 0, 0, 0, 0, 0, 0],\n",
            "        [0, 0, 0, 0, 0, 0, 0, 0, 0, 0, 0, 0, 0, 0, 0, 0, 0, 0, 0, 0]]],\n",
            "      dtype=int32))\n",
            "TimeStep(step_type=array(1, dtype=int32), reward=array(76., dtype=float32), discount=array(1., dtype=float32), observation=array([[[0, 0, 0, 0, 0, 0, 0, 0, 0, 0, 0, 0, 0, 0, 0, 0, 0, 0, 0, 0],\n",
            "        [0, 0, 0, 0, 0, 0, 0, 0, 0, 0, 0, 0, 0, 0, 0, 0, 0, 0, 0, 0],\n",
            "        [0, 0, 0, 0, 0, 0, 0, 0, 0, 0, 0, 0, 0, 0, 0, 0, 0, 0, 0, 0],\n",
            "        [0, 0, 0, 0, 0, 0, 0, 0, 0, 0, 0, 0, 0, 0, 0, 0, 0, 0, 0, 0],\n",
            "        [0, 0, 0, 0, 0, 0, 0, 0, 0, 0, 0, 0, 0, 0, 0, 0, 0, 0, 0, 0],\n",
            "        [0, 0, 0, 0, 0, 0, 0, 0, 0, 0, 0, 0, 0, 0, 0, 0, 0, 0, 0, 0],\n",
            "        [0, 0, 0, 0, 0, 0, 0, 0, 0, 0, 0, 0, 0, 0, 0, 0, 0, 0, 0, 0],\n",
            "        [0, 0, 0, 0, 0, 0, 0, 0, 0, 0, 0, 0, 0, 0, 0, 0, 0, 0, 0, 0],\n",
            "        [0, 0, 0, 0, 0, 0, 0, 0, 0, 0, 0, 0, 0, 0, 0, 0, 0, 0, 0, 0],\n",
            "        [0, 0, 0, 0, 0, 0, 0, 0, 0, 1, 2, 3, 0, 0, 0, 0, 0, 0, 0, 0],\n",
            "        [0, 0, 0, 0, 0, 0, 0, 0, 0, 0, 0, 0, 0, 0, 0, 0, 0, 0, 0, 0],\n",
            "        [0, 0, 0, 0, 0, 0, 0, 0, 0, 0, 0, 0, 0, 0, 0, 0, 0, 0, 0, 0],\n",
            "        [0, 0, 0, 0, 0, 0, 0, 0, 0, 0, 0, 0, 0, 0, 0, 0, 0, 0, 0, 0],\n",
            "        [0, 0, 0, 0, 0, 0, 0, 0, 0, 0, 0, 0, 0, 0, 0, 0, 0, 0, 0, 0],\n",
            "        [0, 0, 0, 0, 0, 0, 0, 0, 0, 0, 0, 0, 0, 0, 0, 0, 0, 0, 0, 0],\n",
            "        [0, 0, 0, 0, 0, 0, 0, 0, 0, 0, 0, 0, 0, 0, 0, 0, 0, 0, 0, 0],\n",
            "        [0, 0, 0, 0, 0, 0, 0, 0, 0, 0, 0, 0, 0, 0, 0, 0, 0, 0, 0, 0],\n",
            "        [0, 0, 0, 0, 0, 0, 0, 0, 0, 0, 0, 0, 0, 0, 0, 0, 0, 0, 0, 0],\n",
            "        [0, 0, 0, 0, 0, 0, 0, 0, 0, 0, 0, 0, 0, 0, 0, 0, 0, 0, 0, 0],\n",
            "        [0, 0, 0, 0, 0, 0, 0, 0, 0, 0, 0, 0, 0, 0, 0, 0, 0, 0, 0, 0]]],\n",
            "      dtype=int32))\n",
            "TimeStep(step_type=array(1, dtype=int32), reward=array(120., dtype=float32), discount=array(1., dtype=float32), observation=array([[[0, 0, 0, 0, 0, 0, 0, 0, 0, 0, 0, 0, 0, 0, 0, 0, 0, 0, 0, 0],\n",
            "        [0, 0, 0, 0, 0, 0, 0, 0, 0, 0, 0, 0, 0, 0, 0, 0, 0, 0, 0, 0],\n",
            "        [0, 0, 0, 0, 0, 0, 0, 0, 0, 0, 0, 0, 0, 0, 0, 0, 0, 0, 0, 0],\n",
            "        [0, 0, 0, 0, 0, 0, 0, 0, 0, 0, 0, 0, 0, 0, 0, 0, 0, 0, 0, 0],\n",
            "        [0, 0, 0, 0, 0, 0, 0, 0, 0, 0, 0, 0, 0, 0, 0, 0, 0, 0, 0, 0],\n",
            "        [0, 0, 0, 0, 0, 0, 0, 0, 0, 0, 0, 0, 0, 0, 0, 0, 0, 0, 0, 0],\n",
            "        [0, 0, 0, 0, 0, 0, 0, 0, 0, 3, 0, 0, 0, 0, 0, 0, 0, 0, 0, 0],\n",
            "        [0, 0, 0, 0, 0, 0, 0, 0, 0, 0, 0, 0, 0, 0, 0, 0, 0, 0, 0, 0],\n",
            "        [0, 0, 0, 0, 0, 0, 0, 0, 0, 0, 0, 0, 0, 0, 0, 0, 0, 0, 0, 0],\n",
            "        [0, 0, 0, 0, 0, 0, 0, 0, 0, 1, 1, 2, 0, 0, 0, 0, 0, 0, 0, 0],\n",
            "        [0, 0, 0, 0, 0, 0, 0, 0, 0, 0, 0, 0, 0, 0, 0, 0, 0, 0, 0, 0],\n",
            "        [0, 0, 0, 0, 0, 0, 0, 0, 0, 0, 0, 0, 0, 0, 0, 0, 0, 0, 0, 0],\n",
            "        [0, 0, 0, 0, 0, 0, 0, 0, 0, 0, 0, 0, 0, 0, 0, 0, 0, 0, 0, 0],\n",
            "        [0, 0, 0, 0, 0, 0, 0, 0, 0, 0, 0, 0, 0, 0, 0, 0, 0, 0, 0, 0],\n",
            "        [0, 0, 0, 0, 0, 0, 0, 0, 0, 0, 0, 0, 0, 0, 0, 0, 0, 0, 0, 0],\n",
            "        [0, 0, 0, 0, 0, 0, 0, 0, 0, 0, 0, 0, 0, 0, 0, 0, 0, 0, 0, 0],\n",
            "        [0, 0, 0, 0, 0, 0, 0, 0, 0, 0, 0, 0, 0, 0, 0, 0, 0, 0, 0, 0],\n",
            "        [0, 0, 0, 0, 0, 0, 0, 0, 0, 0, 0, 0, 0, 0, 0, 0, 0, 0, 0, 0],\n",
            "        [0, 0, 0, 0, 0, 0, 0, 0, 0, 0, 0, 0, 0, 0, 0, 0, 0, 0, 0, 0],\n",
            "        [0, 0, 0, 0, 0, 0, 0, 0, 0, 0, 0, 0, 0, 0, 0, 0, 0, 0, 0, 0]]],\n",
            "      dtype=int32))\n",
            "TimeStep(step_type=array(1, dtype=int32), reward=array(99., dtype=float32), discount=array(1., dtype=float32), observation=array([[[0, 0, 0, 0, 0, 0, 0, 0, 0, 0, 0, 0, 0, 0, 0, 0, 0, 0, 0, 0],\n",
            "        [0, 0, 0, 0, 0, 0, 0, 0, 0, 0, 0, 0, 0, 0, 0, 0, 0, 0, 0, 0],\n",
            "        [0, 0, 0, 0, 0, 0, 0, 0, 0, 0, 0, 0, 0, 0, 0, 0, 0, 0, 0, 0],\n",
            "        [0, 0, 0, 0, 0, 0, 0, 0, 0, 0, 0, 0, 0, 0, 0, 0, 0, 0, 0, 0],\n",
            "        [0, 0, 0, 0, 0, 0, 0, 0, 0, 0, 0, 0, 0, 0, 0, 0, 0, 0, 0, 0],\n",
            "        [0, 0, 0, 0, 0, 0, 0, 0, 0, 0, 0, 0, 0, 0, 0, 0, 0, 0, 0, 0],\n",
            "        [0, 0, 0, 0, 0, 0, 0, 0, 0, 3, 0, 0, 0, 0, 0, 0, 0, 0, 0, 0],\n",
            "        [0, 0, 0, 0, 0, 0, 0, 0, 0, 0, 0, 0, 0, 0, 0, 0, 0, 0, 0, 0],\n",
            "        [0, 0, 0, 0, 0, 0, 0, 0, 0, 0, 0, 0, 0, 0, 0, 0, 0, 0, 0, 0],\n",
            "        [0, 0, 0, 0, 0, 0, 0, 0, 0, 0, 1, 1, 2, 0, 0, 0, 0, 0, 0, 0],\n",
            "        [0, 0, 0, 0, 0, 0, 0, 0, 0, 0, 0, 0, 0, 0, 0, 0, 0, 0, 0, 0],\n",
            "        [0, 0, 0, 0, 0, 0, 0, 0, 0, 0, 0, 0, 0, 0, 0, 0, 0, 0, 0, 0],\n",
            "        [0, 0, 0, 0, 0, 0, 0, 0, 0, 0, 0, 0, 0, 0, 0, 0, 0, 0, 0, 0],\n",
            "        [0, 0, 0, 0, 0, 0, 0, 0, 0, 0, 0, 0, 0, 0, 0, 0, 0, 0, 0, 0],\n",
            "        [0, 0, 0, 0, 0, 0, 0, 0, 0, 0, 0, 0, 0, 0, 0, 0, 0, 0, 0, 0],\n",
            "        [0, 0, 0, 0, 0, 0, 0, 0, 0, 0, 0, 0, 0, 0, 0, 0, 0, 0, 0, 0],\n",
            "        [0, 0, 0, 0, 0, 0, 0, 0, 0, 0, 0, 0, 0, 0, 0, 0, 0, 0, 0, 0],\n",
            "        [0, 0, 0, 0, 0, 0, 0, 0, 0, 0, 0, 0, 0, 0, 0, 0, 0, 0, 0, 0],\n",
            "        [0, 0, 0, 0, 0, 0, 0, 0, 0, 0, 0, 0, 0, 0, 0, 0, 0, 0, 0, 0],\n",
            "        [0, 0, 0, 0, 0, 0, 0, 0, 0, 0, 0, 0, 0, 0, 0, 0, 0, 0, 0, 0]]],\n",
            "      dtype=int32))\n",
            "TimeStep(step_type=array(1, dtype=int32), reward=array(93., dtype=float32), discount=array(1., dtype=float32), observation=array([[[0, 0, 0, 0, 0, 0, 0, 0, 0, 0, 0, 0, 0, 0, 0, 0, 0, 0, 0, 0],\n",
            "        [0, 0, 0, 0, 0, 0, 0, 0, 0, 0, 0, 0, 0, 0, 0, 0, 0, 0, 0, 0],\n",
            "        [0, 0, 0, 0, 0, 0, 0, 0, 0, 0, 0, 0, 0, 0, 0, 0, 0, 0, 0, 0],\n",
            "        [0, 0, 0, 0, 0, 0, 0, 0, 0, 0, 0, 0, 0, 0, 0, 0, 0, 0, 0, 0],\n",
            "        [0, 0, 0, 0, 0, 0, 0, 0, 0, 0, 0, 0, 0, 0, 0, 0, 0, 0, 0, 0],\n",
            "        [0, 0, 0, 0, 0, 0, 0, 0, 0, 0, 0, 0, 0, 0, 0, 0, 0, 0, 0, 0],\n",
            "        [0, 0, 0, 0, 0, 0, 0, 0, 0, 3, 0, 0, 0, 0, 0, 0, 0, 0, 0, 0],\n",
            "        [0, 0, 0, 0, 0, 0, 0, 0, 0, 0, 0, 0, 0, 0, 0, 0, 0, 0, 0, 0],\n",
            "        [0, 0, 0, 0, 0, 0, 0, 0, 0, 0, 0, 0, 0, 0, 0, 0, 0, 0, 0, 0],\n",
            "        [0, 0, 0, 0, 0, 0, 0, 0, 0, 0, 0, 1, 1, 2, 0, 0, 0, 0, 0, 0],\n",
            "        [0, 0, 0, 0, 0, 0, 0, 0, 0, 0, 0, 0, 0, 0, 0, 0, 0, 0, 0, 0],\n",
            "        [0, 0, 0, 0, 0, 0, 0, 0, 0, 0, 0, 0, 0, 0, 0, 0, 0, 0, 0, 0],\n",
            "        [0, 0, 0, 0, 0, 0, 0, 0, 0, 0, 0, 0, 0, 0, 0, 0, 0, 0, 0, 0],\n",
            "        [0, 0, 0, 0, 0, 0, 0, 0, 0, 0, 0, 0, 0, 0, 0, 0, 0, 0, 0, 0],\n",
            "        [0, 0, 0, 0, 0, 0, 0, 0, 0, 0, 0, 0, 0, 0, 0, 0, 0, 0, 0, 0],\n",
            "        [0, 0, 0, 0, 0, 0, 0, 0, 0, 0, 0, 0, 0, 0, 0, 0, 0, 0, 0, 0],\n",
            "        [0, 0, 0, 0, 0, 0, 0, 0, 0, 0, 0, 0, 0, 0, 0, 0, 0, 0, 0, 0],\n",
            "        [0, 0, 0, 0, 0, 0, 0, 0, 0, 0, 0, 0, 0, 0, 0, 0, 0, 0, 0, 0],\n",
            "        [0, 0, 0, 0, 0, 0, 0, 0, 0, 0, 0, 0, 0, 0, 0, 0, 0, 0, 0, 0],\n",
            "        [0, 0, 0, 0, 0, 0, 0, 0, 0, 0, 0, 0, 0, 0, 0, 0, 0, 0, 0, 0]]],\n",
            "      dtype=int32))\n",
            "TimeStep(step_type=array(1, dtype=int32), reward=array(87., dtype=float32), discount=array(1., dtype=float32), observation=array([[[0, 0, 0, 0, 0, 0, 0, 0, 0, 0, 0, 0, 0, 0, 0, 0, 0, 0, 0, 0],\n",
            "        [0, 0, 0, 0, 0, 0, 0, 0, 0, 0, 0, 0, 0, 0, 0, 0, 0, 0, 0, 0],\n",
            "        [0, 0, 0, 0, 0, 0, 0, 0, 0, 0, 0, 0, 0, 0, 0, 0, 0, 0, 0, 0],\n",
            "        [0, 0, 0, 0, 0, 0, 0, 0, 0, 0, 0, 0, 0, 0, 0, 0, 0, 0, 0, 0],\n",
            "        [0, 0, 0, 0, 0, 0, 0, 0, 0, 0, 0, 0, 0, 0, 0, 0, 0, 0, 0, 0],\n",
            "        [0, 0, 0, 0, 0, 0, 0, 0, 0, 0, 0, 0, 0, 0, 0, 0, 0, 0, 0, 0],\n",
            "        [0, 0, 0, 0, 0, 0, 0, 0, 0, 3, 0, 0, 0, 0, 0, 0, 0, 0, 0, 0],\n",
            "        [0, 0, 0, 0, 0, 0, 0, 0, 0, 0, 0, 0, 0, 0, 0, 0, 0, 0, 0, 0],\n",
            "        [0, 0, 0, 0, 0, 0, 0, 0, 0, 0, 0, 0, 0, 0, 0, 0, 0, 0, 0, 0],\n",
            "        [0, 0, 0, 0, 0, 0, 0, 0, 0, 0, 0, 0, 1, 1, 2, 0, 0, 0, 0, 0],\n",
            "        [0, 0, 0, 0, 0, 0, 0, 0, 0, 0, 0, 0, 0, 0, 0, 0, 0, 0, 0, 0],\n",
            "        [0, 0, 0, 0, 0, 0, 0, 0, 0, 0, 0, 0, 0, 0, 0, 0, 0, 0, 0, 0],\n",
            "        [0, 0, 0, 0, 0, 0, 0, 0, 0, 0, 0, 0, 0, 0, 0, 0, 0, 0, 0, 0],\n",
            "        [0, 0, 0, 0, 0, 0, 0, 0, 0, 0, 0, 0, 0, 0, 0, 0, 0, 0, 0, 0],\n",
            "        [0, 0, 0, 0, 0, 0, 0, 0, 0, 0, 0, 0, 0, 0, 0, 0, 0, 0, 0, 0],\n",
            "        [0, 0, 0, 0, 0, 0, 0, 0, 0, 0, 0, 0, 0, 0, 0, 0, 0, 0, 0, 0],\n",
            "        [0, 0, 0, 0, 0, 0, 0, 0, 0, 0, 0, 0, 0, 0, 0, 0, 0, 0, 0, 0],\n",
            "        [0, 0, 0, 0, 0, 0, 0, 0, 0, 0, 0, 0, 0, 0, 0, 0, 0, 0, 0, 0],\n",
            "        [0, 0, 0, 0, 0, 0, 0, 0, 0, 0, 0, 0, 0, 0, 0, 0, 0, 0, 0, 0],\n",
            "        [0, 0, 0, 0, 0, 0, 0, 0, 0, 0, 0, 0, 0, 0, 0, 0, 0, 0, 0, 0]]],\n",
            "      dtype=int32))\n",
            "TimeStep(step_type=array(1, dtype=int32), reward=array(81., dtype=float32), discount=array(1., dtype=float32), observation=array([[[0, 0, 0, 0, 0, 0, 0, 0, 0, 0, 0, 0, 0, 0, 0, 0, 0, 0, 0, 0],\n",
            "        [0, 0, 0, 0, 0, 0, 0, 0, 0, 0, 0, 0, 0, 0, 0, 0, 0, 0, 0, 0],\n",
            "        [0, 0, 0, 0, 0, 0, 0, 0, 0, 0, 0, 0, 0, 0, 0, 0, 0, 0, 0, 0],\n",
            "        [0, 0, 0, 0, 0, 0, 0, 0, 0, 0, 0, 0, 0, 0, 0, 0, 0, 0, 0, 0],\n",
            "        [0, 0, 0, 0, 0, 0, 0, 0, 0, 0, 0, 0, 0, 0, 0, 0, 0, 0, 0, 0],\n",
            "        [0, 0, 0, 0, 0, 0, 0, 0, 0, 0, 0, 0, 0, 0, 0, 0, 0, 0, 0, 0],\n",
            "        [0, 0, 0, 0, 0, 0, 0, 0, 0, 3, 0, 0, 0, 0, 0, 0, 0, 0, 0, 0],\n",
            "        [0, 0, 0, 0, 0, 0, 0, 0, 0, 0, 0, 0, 0, 0, 0, 0, 0, 0, 0, 0],\n",
            "        [0, 0, 0, 0, 0, 0, 0, 0, 0, 0, 0, 0, 0, 0, 0, 0, 0, 0, 0, 0],\n",
            "        [0, 0, 0, 0, 0, 0, 0, 0, 0, 0, 0, 0, 0, 1, 1, 2, 0, 0, 0, 0],\n",
            "        [0, 0, 0, 0, 0, 0, 0, 0, 0, 0, 0, 0, 0, 0, 0, 0, 0, 0, 0, 0],\n",
            "        [0, 0, 0, 0, 0, 0, 0, 0, 0, 0, 0, 0, 0, 0, 0, 0, 0, 0, 0, 0],\n",
            "        [0, 0, 0, 0, 0, 0, 0, 0, 0, 0, 0, 0, 0, 0, 0, 0, 0, 0, 0, 0],\n",
            "        [0, 0, 0, 0, 0, 0, 0, 0, 0, 0, 0, 0, 0, 0, 0, 0, 0, 0, 0, 0],\n",
            "        [0, 0, 0, 0, 0, 0, 0, 0, 0, 0, 0, 0, 0, 0, 0, 0, 0, 0, 0, 0],\n",
            "        [0, 0, 0, 0, 0, 0, 0, 0, 0, 0, 0, 0, 0, 0, 0, 0, 0, 0, 0, 0],\n",
            "        [0, 0, 0, 0, 0, 0, 0, 0, 0, 0, 0, 0, 0, 0, 0, 0, 0, 0, 0, 0],\n",
            "        [0, 0, 0, 0, 0, 0, 0, 0, 0, 0, 0, 0, 0, 0, 0, 0, 0, 0, 0, 0],\n",
            "        [0, 0, 0, 0, 0, 0, 0, 0, 0, 0, 0, 0, 0, 0, 0, 0, 0, 0, 0, 0],\n",
            "        [0, 0, 0, 0, 0, 0, 0, 0, 0, 0, 0, 0, 0, 0, 0, 0, 0, 0, 0, 0]]],\n",
            "      dtype=int32))\n",
            "TimeStep(step_type=array(1, dtype=int32), reward=array(75., dtype=float32), discount=array(1., dtype=float32), observation=array([[[0, 0, 0, 0, 0, 0, 0, 0, 0, 0, 0, 0, 0, 0, 0, 0, 0, 0, 0, 0],\n",
            "        [0, 0, 0, 0, 0, 0, 0, 0, 0, 0, 0, 0, 0, 0, 0, 0, 0, 0, 0, 0],\n",
            "        [0, 0, 0, 0, 0, 0, 0, 0, 0, 0, 0, 0, 0, 0, 0, 0, 0, 0, 0, 0],\n",
            "        [0, 0, 0, 0, 0, 0, 0, 0, 0, 0, 0, 0, 0, 0, 0, 0, 0, 0, 0, 0],\n",
            "        [0, 0, 0, 0, 0, 0, 0, 0, 0, 0, 0, 0, 0, 0, 0, 0, 0, 0, 0, 0],\n",
            "        [0, 0, 0, 0, 0, 0, 0, 0, 0, 0, 0, 0, 0, 0, 0, 0, 0, 0, 0, 0],\n",
            "        [0, 0, 0, 0, 0, 0, 0, 0, 0, 3, 0, 0, 0, 0, 0, 0, 0, 0, 0, 0],\n",
            "        [0, 0, 0, 0, 0, 0, 0, 0, 0, 0, 0, 0, 0, 0, 0, 0, 0, 0, 0, 0],\n",
            "        [0, 0, 0, 0, 0, 0, 0, 0, 0, 0, 0, 0, 0, 0, 0, 0, 0, 0, 0, 0],\n",
            "        [0, 0, 0, 0, 0, 0, 0, 0, 0, 0, 0, 0, 0, 0, 1, 1, 2, 0, 0, 0],\n",
            "        [0, 0, 0, 0, 0, 0, 0, 0, 0, 0, 0, 0, 0, 0, 0, 0, 0, 0, 0, 0],\n",
            "        [0, 0, 0, 0, 0, 0, 0, 0, 0, 0, 0, 0, 0, 0, 0, 0, 0, 0, 0, 0],\n",
            "        [0, 0, 0, 0, 0, 0, 0, 0, 0, 0, 0, 0, 0, 0, 0, 0, 0, 0, 0, 0],\n",
            "        [0, 0, 0, 0, 0, 0, 0, 0, 0, 0, 0, 0, 0, 0, 0, 0, 0, 0, 0, 0],\n",
            "        [0, 0, 0, 0, 0, 0, 0, 0, 0, 0, 0, 0, 0, 0, 0, 0, 0, 0, 0, 0],\n",
            "        [0, 0, 0, 0, 0, 0, 0, 0, 0, 0, 0, 0, 0, 0, 0, 0, 0, 0, 0, 0],\n",
            "        [0, 0, 0, 0, 0, 0, 0, 0, 0, 0, 0, 0, 0, 0, 0, 0, 0, 0, 0, 0],\n",
            "        [0, 0, 0, 0, 0, 0, 0, 0, 0, 0, 0, 0, 0, 0, 0, 0, 0, 0, 0, 0],\n",
            "        [0, 0, 0, 0, 0, 0, 0, 0, 0, 0, 0, 0, 0, 0, 0, 0, 0, 0, 0, 0],\n",
            "        [0, 0, 0, 0, 0, 0, 0, 0, 0, 0, 0, 0, 0, 0, 0, 0, 0, 0, 0, 0]]],\n",
            "      dtype=int32))\n",
            "TimeStep(step_type=array(1, dtype=int32), reward=array(69., dtype=float32), discount=array(1., dtype=float32), observation=array([[[0, 0, 0, 0, 0, 0, 0, 0, 0, 0, 0, 0, 0, 0, 0, 0, 0, 0, 0, 0],\n",
            "        [0, 0, 0, 0, 0, 0, 0, 0, 0, 0, 0, 0, 0, 0, 0, 0, 0, 0, 0, 0],\n",
            "        [0, 0, 0, 0, 0, 0, 0, 0, 0, 0, 0, 0, 0, 0, 0, 0, 0, 0, 0, 0],\n",
            "        [0, 0, 0, 0, 0, 0, 0, 0, 0, 0, 0, 0, 0, 0, 0, 0, 0, 0, 0, 0],\n",
            "        [0, 0, 0, 0, 0, 0, 0, 0, 0, 0, 0, 0, 0, 0, 0, 0, 0, 0, 0, 0],\n",
            "        [0, 0, 0, 0, 0, 0, 0, 0, 0, 0, 0, 0, 0, 0, 0, 0, 0, 0, 0, 0],\n",
            "        [0, 0, 0, 0, 0, 0, 0, 0, 0, 3, 0, 0, 0, 0, 0, 0, 0, 0, 0, 0],\n",
            "        [0, 0, 0, 0, 0, 0, 0, 0, 0, 0, 0, 0, 0, 0, 0, 0, 0, 0, 0, 0],\n",
            "        [0, 0, 0, 0, 0, 0, 0, 0, 0, 0, 0, 0, 0, 0, 0, 0, 0, 0, 0, 0],\n",
            "        [0, 0, 0, 0, 0, 0, 0, 0, 0, 0, 0, 0, 0, 0, 0, 1, 1, 2, 0, 0],\n",
            "        [0, 0, 0, 0, 0, 0, 0, 0, 0, 0, 0, 0, 0, 0, 0, 0, 0, 0, 0, 0],\n",
            "        [0, 0, 0, 0, 0, 0, 0, 0, 0, 0, 0, 0, 0, 0, 0, 0, 0, 0, 0, 0],\n",
            "        [0, 0, 0, 0, 0, 0, 0, 0, 0, 0, 0, 0, 0, 0, 0, 0, 0, 0, 0, 0],\n",
            "        [0, 0, 0, 0, 0, 0, 0, 0, 0, 0, 0, 0, 0, 0, 0, 0, 0, 0, 0, 0],\n",
            "        [0, 0, 0, 0, 0, 0, 0, 0, 0, 0, 0, 0, 0, 0, 0, 0, 0, 0, 0, 0],\n",
            "        [0, 0, 0, 0, 0, 0, 0, 0, 0, 0, 0, 0, 0, 0, 0, 0, 0, 0, 0, 0],\n",
            "        [0, 0, 0, 0, 0, 0, 0, 0, 0, 0, 0, 0, 0, 0, 0, 0, 0, 0, 0, 0],\n",
            "        [0, 0, 0, 0, 0, 0, 0, 0, 0, 0, 0, 0, 0, 0, 0, 0, 0, 0, 0, 0],\n",
            "        [0, 0, 0, 0, 0, 0, 0, 0, 0, 0, 0, 0, 0, 0, 0, 0, 0, 0, 0, 0],\n",
            "        [0, 0, 0, 0, 0, 0, 0, 0, 0, 0, 0, 0, 0, 0, 0, 0, 0, 0, 0, 0]]],\n",
            "      dtype=int32))\n",
            "TimeStep(step_type=array(1, dtype=int32), reward=array(63., dtype=float32), discount=array(1., dtype=float32), observation=array([[[0, 0, 0, 0, 0, 0, 0, 0, 0, 0, 0, 0, 0, 0, 0, 0, 0, 0, 0, 0],\n",
            "        [0, 0, 0, 0, 0, 0, 0, 0, 0, 0, 0, 0, 0, 0, 0, 0, 0, 0, 0, 0],\n",
            "        [0, 0, 0, 0, 0, 0, 0, 0, 0, 0, 0, 0, 0, 0, 0, 0, 0, 0, 0, 0],\n",
            "        [0, 0, 0, 0, 0, 0, 0, 0, 0, 0, 0, 0, 0, 0, 0, 0, 0, 0, 0, 0],\n",
            "        [0, 0, 0, 0, 0, 0, 0, 0, 0, 0, 0, 0, 0, 0, 0, 0, 0, 0, 0, 0],\n",
            "        [0, 0, 0, 0, 0, 0, 0, 0, 0, 0, 0, 0, 0, 0, 0, 0, 0, 0, 0, 0],\n",
            "        [0, 0, 0, 0, 0, 0, 0, 0, 0, 3, 0, 0, 0, 0, 0, 0, 0, 0, 0, 0],\n",
            "        [0, 0, 0, 0, 0, 0, 0, 0, 0, 0, 0, 0, 0, 0, 0, 0, 0, 0, 0, 0],\n",
            "        [0, 0, 0, 0, 0, 0, 0, 0, 0, 0, 0, 0, 0, 0, 0, 0, 0, 0, 0, 0],\n",
            "        [0, 0, 0, 0, 0, 0, 0, 0, 0, 0, 0, 0, 0, 0, 0, 0, 1, 1, 2, 0],\n",
            "        [0, 0, 0, 0, 0, 0, 0, 0, 0, 0, 0, 0, 0, 0, 0, 0, 0, 0, 0, 0],\n",
            "        [0, 0, 0, 0, 0, 0, 0, 0, 0, 0, 0, 0, 0, 0, 0, 0, 0, 0, 0, 0],\n",
            "        [0, 0, 0, 0, 0, 0, 0, 0, 0, 0, 0, 0, 0, 0, 0, 0, 0, 0, 0, 0],\n",
            "        [0, 0, 0, 0, 0, 0, 0, 0, 0, 0, 0, 0, 0, 0, 0, 0, 0, 0, 0, 0],\n",
            "        [0, 0, 0, 0, 0, 0, 0, 0, 0, 0, 0, 0, 0, 0, 0, 0, 0, 0, 0, 0],\n",
            "        [0, 0, 0, 0, 0, 0, 0, 0, 0, 0, 0, 0, 0, 0, 0, 0, 0, 0, 0, 0],\n",
            "        [0, 0, 0, 0, 0, 0, 0, 0, 0, 0, 0, 0, 0, 0, 0, 0, 0, 0, 0, 0],\n",
            "        [0, 0, 0, 0, 0, 0, 0, 0, 0, 0, 0, 0, 0, 0, 0, 0, 0, 0, 0, 0],\n",
            "        [0, 0, 0, 0, 0, 0, 0, 0, 0, 0, 0, 0, 0, 0, 0, 0, 0, 0, 0, 0],\n",
            "        [0, 0, 0, 0, 0, 0, 0, 0, 0, 0, 0, 0, 0, 0, 0, 0, 0, 0, 0, 0]]],\n",
            "      dtype=int32))\n",
            "TimeStep(step_type=array(1, dtype=int32), reward=array(57., dtype=float32), discount=array(1., dtype=float32), observation=array([[[0, 0, 0, 0, 0, 0, 0, 0, 0, 0, 0, 0, 0, 0, 0, 0, 0, 0, 0, 0],\n",
            "        [0, 0, 0, 0, 0, 0, 0, 0, 0, 0, 0, 0, 0, 0, 0, 0, 0, 0, 0, 0],\n",
            "        [0, 0, 0, 0, 0, 0, 0, 0, 0, 0, 0, 0, 0, 0, 0, 0, 0, 0, 0, 0],\n",
            "        [0, 0, 0, 0, 0, 0, 0, 0, 0, 0, 0, 0, 0, 0, 0, 0, 0, 0, 0, 0],\n",
            "        [0, 0, 0, 0, 0, 0, 0, 0, 0, 0, 0, 0, 0, 0, 0, 0, 0, 0, 0, 0],\n",
            "        [0, 0, 0, 0, 0, 0, 0, 0, 0, 0, 0, 0, 0, 0, 0, 0, 0, 0, 0, 0],\n",
            "        [0, 0, 0, 0, 0, 0, 0, 0, 0, 3, 0, 0, 0, 0, 0, 0, 0, 0, 0, 0],\n",
            "        [0, 0, 0, 0, 0, 0, 0, 0, 0, 0, 0, 0, 0, 0, 0, 0, 0, 0, 0, 0],\n",
            "        [0, 0, 0, 0, 0, 0, 0, 0, 0, 0, 0, 0, 0, 0, 0, 0, 0, 0, 0, 0],\n",
            "        [0, 0, 0, 0, 0, 0, 0, 0, 0, 0, 0, 0, 0, 0, 0, 0, 0, 1, 1, 2],\n",
            "        [0, 0, 0, 0, 0, 0, 0, 0, 0, 0, 0, 0, 0, 0, 0, 0, 0, 0, 0, 0],\n",
            "        [0, 0, 0, 0, 0, 0, 0, 0, 0, 0, 0, 0, 0, 0, 0, 0, 0, 0, 0, 0],\n",
            "        [0, 0, 0, 0, 0, 0, 0, 0, 0, 0, 0, 0, 0, 0, 0, 0, 0, 0, 0, 0],\n",
            "        [0, 0, 0, 0, 0, 0, 0, 0, 0, 0, 0, 0, 0, 0, 0, 0, 0, 0, 0, 0],\n",
            "        [0, 0, 0, 0, 0, 0, 0, 0, 0, 0, 0, 0, 0, 0, 0, 0, 0, 0, 0, 0],\n",
            "        [0, 0, 0, 0, 0, 0, 0, 0, 0, 0, 0, 0, 0, 0, 0, 0, 0, 0, 0, 0],\n",
            "        [0, 0, 0, 0, 0, 0, 0, 0, 0, 0, 0, 0, 0, 0, 0, 0, 0, 0, 0, 0],\n",
            "        [0, 0, 0, 0, 0, 0, 0, 0, 0, 0, 0, 0, 0, 0, 0, 0, 0, 0, 0, 0],\n",
            "        [0, 0, 0, 0, 0, 0, 0, 0, 0, 0, 0, 0, 0, 0, 0, 0, 0, 0, 0, 0],\n",
            "        [0, 0, 0, 0, 0, 0, 0, 0, 0, 0, 0, 0, 0, 0, 0, 0, 0, 0, 0, 0]]],\n",
            "      dtype=int32))\n",
            "TimeStep(step_type=array(2, dtype=int32), reward=array(51., dtype=float32), discount=array(0., dtype=float32), observation=array([[[0, 0, 0, 0, 0, 0, 0, 0, 0, 0, 0, 0, 0, 0, 0, 0, 0, 0, 0, 0],\n",
            "        [0, 0, 0, 0, 0, 0, 0, 0, 0, 0, 0, 0, 0, 0, 0, 0, 0, 0, 0, 0],\n",
            "        [0, 0, 0, 0, 0, 0, 0, 0, 0, 0, 0, 0, 0, 0, 0, 0, 0, 0, 0, 0],\n",
            "        [0, 0, 0, 0, 0, 0, 0, 0, 0, 0, 0, 0, 0, 0, 0, 0, 0, 0, 0, 0],\n",
            "        [0, 0, 0, 0, 0, 0, 0, 0, 0, 0, 0, 0, 0, 0, 0, 0, 0, 0, 0, 0],\n",
            "        [0, 0, 0, 0, 0, 0, 0, 0, 0, 0, 0, 0, 0, 0, 0, 0, 0, 0, 0, 0],\n",
            "        [0, 0, 0, 0, 0, 0, 0, 0, 0, 3, 0, 0, 0, 0, 0, 0, 0, 0, 0, 0],\n",
            "        [0, 0, 0, 0, 0, 0, 0, 0, 0, 0, 0, 0, 0, 0, 0, 0, 0, 0, 0, 0],\n",
            "        [0, 0, 0, 0, 0, 0, 0, 0, 0, 0, 0, 0, 0, 0, 0, 0, 0, 0, 0, 0],\n",
            "        [0, 0, 0, 0, 0, 0, 0, 0, 0, 0, 0, 0, 0, 0, 0, 0, 0, 1, 1, 2],\n",
            "        [0, 0, 0, 0, 0, 0, 0, 0, 0, 0, 0, 0, 0, 0, 0, 0, 0, 0, 0, 0],\n",
            "        [0, 0, 0, 0, 0, 0, 0, 0, 0, 0, 0, 0, 0, 0, 0, 0, 0, 0, 0, 0],\n",
            "        [0, 0, 0, 0, 0, 0, 0, 0, 0, 0, 0, 0, 0, 0, 0, 0, 0, 0, 0, 0],\n",
            "        [0, 0, 0, 0, 0, 0, 0, 0, 0, 0, 0, 0, 0, 0, 0, 0, 0, 0, 0, 0],\n",
            "        [0, 0, 0, 0, 0, 0, 0, 0, 0, 0, 0, 0, 0, 0, 0, 0, 0, 0, 0, 0],\n",
            "        [0, 0, 0, 0, 0, 0, 0, 0, 0, 0, 0, 0, 0, 0, 0, 0, 0, 0, 0, 0],\n",
            "        [0, 0, 0, 0, 0, 0, 0, 0, 0, 0, 0, 0, 0, 0, 0, 0, 0, 0, 0, 0],\n",
            "        [0, 0, 0, 0, 0, 0, 0, 0, 0, 0, 0, 0, 0, 0, 0, 0, 0, 0, 0, 0],\n",
            "        [0, 0, 0, 0, 0, 0, 0, 0, 0, 0, 0, 0, 0, 0, 0, 0, 0, 0, 0, 0],\n",
            "        [0, 0, 0, 0, 0, 0, 0, 0, 0, 0, 0, 0, 0, 0, 0, 0, 0, 0, 0, 0]]],\n",
            "      dtype=int32))\n",
            "Final Reward =  871.0\n"
          ],
          "name": "stdout"
        }
      ]
    },
    {
      "cell_type": "code",
      "metadata": {
        "id": "fxin9cbUNCB7",
        "colab_type": "code",
        "colab": {
          "base_uri": "https://localhost:8080/",
          "height": 374
        },
        "outputId": "633a9b0a-faab-4401-aff3-a7f47d485c03"
      },
      "source": [
        "environment.reset()"
      ],
      "execution_count": 76,
      "outputs": [
        {
          "output_type": "execute_result",
          "data": {
            "text/plain": [
              "TimeStep(step_type=array(0, dtype=int32), reward=array(0., dtype=float32), discount=array(1., dtype=float32), observation=array([[[0, 0, 0, 0, 0, 0, 0, 0, 0, 0, 0, 0, 0, 0, 0, 0, 0, 0, 0, 0],\n",
              "        [0, 0, 0, 0, 0, 0, 0, 0, 0, 0, 0, 0, 0, 0, 0, 0, 0, 0, 0, 0],\n",
              "        [0, 0, 0, 0, 0, 0, 0, 0, 0, 0, 0, 0, 0, 0, 0, 0, 0, 0, 0, 0],\n",
              "        [0, 0, 0, 0, 0, 0, 0, 0, 0, 0, 0, 0, 0, 0, 0, 0, 0, 0, 0, 0],\n",
              "        [0, 0, 0, 0, 0, 0, 0, 0, 0, 0, 0, 0, 0, 0, 0, 0, 0, 0, 0, 0],\n",
              "        [0, 0, 0, 0, 0, 0, 0, 0, 0, 0, 0, 0, 0, 0, 0, 0, 0, 0, 0, 0],\n",
              "        [0, 0, 0, 0, 0, 0, 0, 0, 0, 0, 0, 0, 0, 0, 0, 0, 0, 0, 0, 0],\n",
              "        [0, 0, 0, 0, 0, 0, 0, 0, 0, 0, 0, 0, 0, 0, 0, 0, 0, 0, 0, 0],\n",
              "        [0, 0, 0, 0, 0, 0, 0, 0, 0, 0, 0, 0, 0, 0, 0, 0, 0, 0, 0, 0],\n",
              "        [0, 0, 0, 0, 0, 0, 0, 0, 1, 2, 0, 3, 0, 0, 0, 0, 0, 0, 0, 0],\n",
              "        [0, 0, 0, 0, 0, 0, 0, 0, 0, 0, 0, 0, 0, 0, 0, 0, 0, 0, 0, 0],\n",
              "        [0, 0, 0, 0, 0, 0, 0, 0, 0, 0, 0, 0, 0, 0, 0, 0, 0, 0, 0, 0],\n",
              "        [0, 0, 0, 0, 0, 0, 0, 0, 0, 0, 0, 0, 0, 0, 0, 0, 0, 0, 0, 0],\n",
              "        [0, 0, 0, 0, 0, 0, 0, 0, 0, 0, 0, 0, 0, 0, 0, 0, 0, 0, 0, 0],\n",
              "        [0, 0, 0, 0, 0, 0, 0, 0, 0, 0, 0, 0, 0, 0, 0, 0, 0, 0, 0, 0],\n",
              "        [0, 0, 0, 0, 0, 0, 0, 0, 0, 0, 0, 0, 0, 0, 0, 0, 0, 0, 0, 0],\n",
              "        [0, 0, 0, 0, 0, 0, 0, 0, 0, 0, 0, 0, 0, 0, 0, 0, 0, 0, 0, 0],\n",
              "        [0, 0, 0, 0, 0, 0, 0, 0, 0, 0, 0, 0, 0, 0, 0, 0, 0, 0, 0, 0],\n",
              "        [0, 0, 0, 0, 0, 0, 0, 0, 0, 0, 0, 0, 0, 0, 0, 0, 0, 0, 0, 0],\n",
              "        [0, 0, 0, 0, 0, 0, 0, 0, 0, 0, 0, 0, 0, 0, 0, 0, 0, 0, 0, 0]]],\n",
              "      dtype=int32))"
            ]
          },
          "metadata": {
            "tags": []
          },
          "execution_count": 76
        }
      ]
    },
    {
      "cell_type": "code",
      "metadata": {
        "id": "F43hI2eF3AnP",
        "colab_type": "code",
        "colab": {
          "base_uri": "https://localhost:8080/",
          "height": 170
        },
        "outputId": "6add9582-0782-4896-afed-31aaac4e34d2"
      },
      "source": [
        "!sudo apt-get install -y xvfb ffmpeg\n",
        "!pip install -q 'gym==0.10.11'\n",
        "!pip install -q 'imageio==2.4.0'\n",
        "!pip install -q PILLOW\n",
        "!pip install -q 'pyglet==1.3.2'\n",
        "!pip install -q pyvirtualdisplay\n",
        "!pip install -q tf-agents"
      ],
      "execution_count": 77,
      "outputs": [
        {
          "output_type": "stream",
          "text": [
            "Reading package lists... Done\n",
            "Building dependency tree       \n",
            "Reading state information... Done\n",
            "ffmpeg is already the newest version (7:3.4.8-0ubuntu0.2).\n",
            "xvfb is already the newest version (2:1.19.6-1ubuntu4.4).\n",
            "The following package was automatically installed and is no longer required:\n",
            "  libnvidia-common-440\n",
            "Use 'sudo apt autoremove' to remove it.\n",
            "0 upgraded, 0 newly installed, 0 to remove and 35 not upgraded.\n"
          ],
          "name": "stdout"
        }
      ]
    },
    {
      "cell_type": "code",
      "metadata": {
        "id": "5EsomwK33C3r",
        "colab_type": "code",
        "colab": {}
      },
      "source": [
        "from __future__ import absolute_import, division, print_function\n",
        "\n",
        "import base64\n",
        "import imageio\n",
        "import IPython\n",
        "import matplotlib\n",
        "import matplotlib.pyplot as plt\n",
        "import numpy as np\n",
        "import PIL.Image\n",
        "import pyvirtualdisplay\n",
        "\n",
        "import tensorflow as tf\n",
        "\n",
        "from tf_agents.agents.dqn import dqn_agent\n",
        "from tf_agents.drivers import dynamic_step_driver\n",
        "from tf_agents.environments import suite_gym\n",
        "from tf_agents.environments import tf_py_environment\n",
        "from tf_agents.eval import metric_utils\n",
        "from tf_agents.metrics import tf_metrics\n",
        "from tf_agents.networks import q_network\n",
        "from tf_agents.policies import random_tf_policy\n",
        "from tf_agents.replay_buffers import tf_uniform_replay_buffer\n",
        "from tf_agents.trajectories import trajectory\n",
        "from tf_agents.utils import common"
      ],
      "execution_count": 78,
      "outputs": []
    },
    {
      "cell_type": "code",
      "metadata": {
        "id": "HvwBPnzGR5iq",
        "colab_type": "code",
        "colab": {
          "base_uri": "https://localhost:8080/",
          "height": 657
        },
        "outputId": "f1f11749-79b7-4d68-dc1e-d90aca929133"
      },
      "source": [
        "PIL.Image.fromarray(environment.render(), mode='RGB')\n",
        "#display(img.resize((256, 256), PIL.Image.LANCZOS))"
      ],
      "execution_count": 79,
      "outputs": [
        {
          "output_type": "execute_result",
          "data": {
            "image/png": "[encoded data removed]",
            "text/plain": [
              "<PIL.Image.Image image mode=RGB size=640x640 at 0x7FCDE7500278>"
            ]
          },
          "metadata": {
            "tags": []
          },
          "execution_count": 79
        }
      ]
    },
    {
      "cell_type": "code",
      "metadata": {
        "id": "CMSx1x9F8EhH",
        "colab_type": "code",
        "colab": {}
      },
      "source": [
        "num_iterations = 50000 # @param {type:\"integer\"}\n",
        "\n",
        "initial_collect_steps = 1000  # @param {type:\"integer\"} \n",
        "collect_steps_per_iteration = 1  # @param {type:\"integer\"}\n",
        "replay_buffer_max_length = 100000  # @param {type:\"integer\"}\n",
        "\n",
        "batch_size = 64  # @param {type:\"integer\"}\n",
        "learning_rate = 1e-4  # @param {type:\"number\"}\n",
        "log_interval = 200  # @param {type:\"integer\"}\n",
        "\n",
        "num_eval_episodes = 10  # @param {type:\"integer\"}\n",
        "eval_interval = 1000  # @param {type:\"integer\"}"
      ],
      "execution_count": 104,
      "outputs": []
    },
    {
      "cell_type": "code",
      "metadata": {
        "id": "r512gaAf4Agh",
        "colab_type": "code",
        "colab": {
          "base_uri": "https://localhost:8080/",
          "height": 51
        },
        "outputId": "288ec523-6f21-4364-86d1-5e2db8cb6660"
      },
      "source": [
        "env = environment\n",
        "\n",
        "print('Reward Spec:')\n",
        "print(env.time_step_spec().reward)"
      ],
      "execution_count": 81,
      "outputs": [
        {
          "output_type": "stream",
          "text": [
            "Reward Spec:\n",
            "ArraySpec(shape=(), dtype=dtype('float32'), name='reward')\n"
          ],
          "name": "stdout"
        }
      ]
    },
    {
      "cell_type": "code",
      "metadata": {
        "id": "8-T-G5R14Ln6",
        "colab_type": "code",
        "colab": {
          "base_uri": "https://localhost:8080/",
          "height": 51
        },
        "outputId": "9f704e8a-73ab-4dcf-b492-ae31ceae53f8"
      },
      "source": [
        "print('Action Spec:')\n",
        "print(env.action_spec())"
      ],
      "execution_count": 82,
      "outputs": [
        {
          "output_type": "stream",
          "text": [
            "Action Spec:\n",
            "BoundedArraySpec(shape=(), dtype=dtype('int32'), name='action', minimum=0, maximum=3)\n"
          ],
          "name": "stdout"
        }
      ]
    },
    {
      "cell_type": "code",
      "metadata": {
        "id": "4vsVbFAG4NT5",
        "colab_type": "code",
        "colab": {
          "base_uri": "https://localhost:8080/",
          "height": 765
        },
        "outputId": "9e7d3d42-9bfc-4c0e-b7f0-c4810d53de58"
      },
      "source": [
        "time_step = env.reset()\n",
        "print('Time step:')\n",
        "print(time_step)\n",
        "\n",
        "action = np.array(1, dtype=np.int32)\n",
        "\n",
        "next_time_step = env.step(action)\n",
        "print('Next time step:')\n",
        "print(next_time_step)"
      ],
      "execution_count": 83,
      "outputs": [
        {
          "output_type": "stream",
          "text": [
            "Time step:\n",
            "TimeStep(step_type=array(0, dtype=int32), reward=array(0., dtype=float32), discount=array(1., dtype=float32), observation=array([[[0, 0, 0, 0, 0, 0, 0, 0, 0, 0, 0, 0, 0, 0, 0, 0, 0, 0, 0, 0],\n",
            "        [0, 0, 0, 0, 0, 0, 0, 0, 0, 0, 0, 0, 0, 0, 0, 0, 0, 0, 0, 0],\n",
            "        [0, 0, 0, 0, 0, 0, 0, 0, 0, 0, 0, 0, 0, 0, 0, 0, 0, 0, 0, 0],\n",
            "        [0, 0, 0, 0, 0, 0, 0, 0, 0, 0, 0, 0, 0, 0, 0, 0, 0, 0, 0, 0],\n",
            "        [0, 0, 0, 0, 0, 0, 0, 0, 0, 0, 0, 0, 0, 0, 0, 0, 0, 0, 0, 0],\n",
            "        [0, 0, 0, 0, 0, 0, 0, 0, 0, 0, 0, 0, 0, 0, 0, 0, 0, 0, 0, 0],\n",
            "        [0, 0, 0, 0, 0, 0, 0, 0, 0, 0, 0, 0, 0, 0, 0, 0, 0, 0, 0, 0],\n",
            "        [0, 0, 0, 0, 0, 0, 0, 0, 0, 0, 0, 0, 0, 0, 0, 0, 0, 0, 0, 0],\n",
            "        [0, 0, 0, 0, 0, 0, 0, 0, 0, 0, 0, 0, 0, 0, 0, 0, 0, 0, 0, 0],\n",
            "        [0, 0, 0, 0, 0, 0, 0, 0, 1, 2, 0, 3, 0, 0, 0, 0, 0, 0, 0, 0],\n",
            "        [0, 0, 0, 0, 0, 0, 0, 0, 0, 0, 0, 0, 0, 0, 0, 0, 0, 0, 0, 0],\n",
            "        [0, 0, 0, 0, 0, 0, 0, 0, 0, 0, 0, 0, 0, 0, 0, 0, 0, 0, 0, 0],\n",
            "        [0, 0, 0, 0, 0, 0, 0, 0, 0, 0, 0, 0, 0, 0, 0, 0, 0, 0, 0, 0],\n",
            "        [0, 0, 0, 0, 0, 0, 0, 0, 0, 0, 0, 0, 0, 0, 0, 0, 0, 0, 0, 0],\n",
            "        [0, 0, 0, 0, 0, 0, 0, 0, 0, 0, 0, 0, 0, 0, 0, 0, 0, 0, 0, 0],\n",
            "        [0, 0, 0, 0, 0, 0, 0, 0, 0, 0, 0, 0, 0, 0, 0, 0, 0, 0, 0, 0],\n",
            "        [0, 0, 0, 0, 0, 0, 0, 0, 0, 0, 0, 0, 0, 0, 0, 0, 0, 0, 0, 0],\n",
            "        [0, 0, 0, 0, 0, 0, 0, 0, 0, 0, 0, 0, 0, 0, 0, 0, 0, 0, 0, 0],\n",
            "        [0, 0, 0, 0, 0, 0, 0, 0, 0, 0, 0, 0, 0, 0, 0, 0, 0, 0, 0, 0],\n",
            "        [0, 0, 0, 0, 0, 0, 0, 0, 0, 0, 0, 0, 0, 0, 0, 0, 0, 0, 0, 0]]],\n",
            "      dtype=int32))\n",
            "Next time step:\n",
            "TimeStep(step_type=array(1, dtype=int32), reward=array(76., dtype=float32), discount=array(1., dtype=float32), observation=array([[[0, 0, 0, 0, 0, 0, 0, 0, 0, 0, 0, 0, 0, 0, 0, 0, 0, 0, 0, 0],\n",
            "        [0, 0, 0, 0, 0, 0, 0, 0, 0, 0, 0, 0, 0, 0, 0, 0, 0, 0, 0, 0],\n",
            "        [0, 0, 0, 0, 0, 0, 0, 0, 0, 0, 0, 0, 0, 0, 0, 0, 0, 0, 0, 0],\n",
            "        [0, 0, 0, 0, 0, 0, 0, 0, 0, 0, 0, 0, 0, 0, 0, 0, 0, 0, 0, 0],\n",
            "        [0, 0, 0, 0, 0, 0, 0, 0, 0, 0, 0, 0, 0, 0, 0, 0, 0, 0, 0, 0],\n",
            "        [0, 0, 0, 0, 0, 0, 0, 0, 0, 0, 0, 0, 0, 0, 0, 0, 0, 0, 0, 0],\n",
            "        [0, 0, 0, 0, 0, 0, 0, 0, 0, 0, 0, 0, 0, 0, 0, 0, 0, 0, 0, 0],\n",
            "        [0, 0, 0, 0, 0, 0, 0, 0, 0, 0, 0, 0, 0, 0, 0, 0, 0, 0, 0, 0],\n",
            "        [0, 0, 0, 0, 0, 0, 0, 0, 0, 0, 0, 0, 0, 0, 0, 0, 0, 0, 0, 0],\n",
            "        [0, 0, 0, 0, 0, 0, 0, 0, 0, 1, 2, 3, 0, 0, 0, 0, 0, 0, 0, 0],\n",
            "        [0, 0, 0, 0, 0, 0, 0, 0, 0, 0, 0, 0, 0, 0, 0, 0, 0, 0, 0, 0],\n",
            "        [0, 0, 0, 0, 0, 0, 0, 0, 0, 0, 0, 0, 0, 0, 0, 0, 0, 0, 0, 0],\n",
            "        [0, 0, 0, 0, 0, 0, 0, 0, 0, 0, 0, 0, 0, 0, 0, 0, 0, 0, 0, 0],\n",
            "        [0, 0, 0, 0, 0, 0, 0, 0, 0, 0, 0, 0, 0, 0, 0, 0, 0, 0, 0, 0],\n",
            "        [0, 0, 0, 0, 0, 0, 0, 0, 0, 0, 0, 0, 0, 0, 0, 0, 0, 0, 0, 0],\n",
            "        [0, 0, 0, 0, 0, 0, 0, 0, 0, 0, 0, 0, 0, 0, 0, 0, 0, 0, 0, 0],\n",
            "        [0, 0, 0, 0, 0, 0, 0, 0, 0, 0, 0, 0, 0, 0, 0, 0, 0, 0, 0, 0],\n",
            "        [0, 0, 0, 0, 0, 0, 0, 0, 0, 0, 0, 0, 0, 0, 0, 0, 0, 0, 0, 0],\n",
            "        [0, 0, 0, 0, 0, 0, 0, 0, 0, 0, 0, 0, 0, 0, 0, 0, 0, 0, 0, 0],\n",
            "        [0, 0, 0, 0, 0, 0, 0, 0, 0, 0, 0, 0, 0, 0, 0, 0, 0, 0, 0, 0]]],\n",
            "      dtype=int32))\n"
          ],
          "name": "stdout"
        }
      ]
    },
    {
      "cell_type": "code",
      "metadata": {
        "id": "ED7T59wC63TW",
        "colab_type": "code",
        "colab": {}
      },
      "source": [
        "train_py_env = SnakeEnv()\n",
        "eval_py_env = SnakeEnv()\n",
        "\n",
        "train_env = tf_py_environment.TFPyEnvironment(train_py_env)\n",
        "eval_env = tf_py_environment.TFPyEnvironment(eval_py_env)"
      ],
      "execution_count": 84,
      "outputs": []
    },
    {
      "cell_type": "code",
      "metadata": {
        "id": "EwRmC3fM7b2R",
        "colab_type": "code",
        "colab": {}
      },
      "source": [
        "fc_layer_params = (100,)\n",
        "\n",
        "q_net = q_network.QNetwork(\n",
        "    train_env.observation_spec(),\n",
        "    train_env.action_spec(),\n",
        "    fc_layer_params=fc_layer_params)"
      ],
      "execution_count": 85,
      "outputs": []
    },
    {
      "cell_type": "code",
      "metadata": {
        "id": "9_0DCre17n_A",
        "colab_type": "code",
        "colab": {}
      },
      "source": [
        "optimizer = tf.compat.v1.train.AdamOptimizer(learning_rate=learning_rate)\n",
        "\n",
        "train_step_counter = tf.Variable(0)\n",
        "\n",
        "agent = dqn_agent.DqnAgent(\n",
        "    train_env.time_step_spec(),\n",
        "    train_env.action_spec(),\n",
        "    q_network=q_net,\n",
        "    optimizer=optimizer,\n",
        "    td_errors_loss_fn=common.element_wise_squared_loss,\n",
        "    train_step_counter=train_step_counter)\n",
        "\n",
        "agent.initialize()"
      ],
      "execution_count": 86,
      "outputs": []
    },
    {
      "cell_type": "code",
      "metadata": {
        "id": "Tok5Hd3I7q_q",
        "colab_type": "code",
        "colab": {}
      },
      "source": [
        "eval_policy = agent.policy\n",
        "collect_policy = agent.collect_policy"
      ],
      "execution_count": 87,
      "outputs": []
    },
    {
      "cell_type": "code",
      "metadata": {
        "id": "fjjCrE1l7vUE",
        "colab_type": "code",
        "colab": {}
      },
      "source": [
        "random_policy = random_tf_policy.RandomTFPolicy(train_env.time_step_spec(),\n",
        "                                                train_env.action_spec())"
      ],
      "execution_count": 88,
      "outputs": []
    },
    {
      "cell_type": "code",
      "metadata": {
        "id": "uOCkH3UH8Wi5",
        "colab_type": "code",
        "colab": {}
      },
      "source": [
        "example_environment = tf_py_environment.TFPyEnvironment(\n",
        "    SnakeEnv())"
      ],
      "execution_count": 89,
      "outputs": []
    },
    {
      "cell_type": "code",
      "metadata": {
        "id": "841pbMP78cfW",
        "colab_type": "code",
        "colab": {}
      },
      "source": [
        "time_step = example_environment.reset()"
      ],
      "execution_count": 90,
      "outputs": []
    },
    {
      "cell_type": "code",
      "metadata": {
        "id": "QsqDaUDR8fFo",
        "colab_type": "code",
        "colab": {
          "base_uri": "https://localhost:8080/",
          "height": 34
        },
        "outputId": "76b68608-a54f-477a-95dd-909c2ddd2b96"
      },
      "source": [
        "random_policy.action(time_step)"
      ],
      "execution_count": 91,
      "outputs": [
        {
          "output_type": "execute_result",
          "data": {
            "text/plain": [
              "PolicyStep(action=<tf.Tensor: shape=(1,), dtype=int32, numpy=array([1], dtype=int32)>, state=(), info=())"
            ]
          },
          "metadata": {
            "tags": []
          },
          "execution_count": 91
        }
      ]
    },
    {
      "cell_type": "code",
      "metadata": {
        "id": "oH7-sLjl8q2g",
        "colab_type": "code",
        "colab": {}
      },
      "source": [
        "\n",
        "def compute_avg_return(environment, policy, num_episodes=10):\n",
        "\n",
        "  total_return = 0.0\n",
        "  for _ in range(num_episodes):\n",
        "\n",
        "    time_step = environment.reset()\n",
        "    episode_return = 0.0\n",
        "\n",
        "    while not time_step.is_last():\n",
        "      action_step = policy.action(time_step)\n",
        "      time_step = environment.step(action_step.action)\n",
        "      episode_return += time_step.reward\n",
        "    total_return += episode_return\n",
        "\n",
        "  avg_return = total_return / num_episodes\n",
        "  return avg_return.numpy()[0]\n",
        "\n",
        "\n",
        "# See also the metrics module for standard implementations of different metrics.\n",
        "# https://github.com/tensorflow/agents/tree/master/tf_agents/metrics"
      ],
      "execution_count": 92,
      "outputs": []
    },
    {
      "cell_type": "code",
      "metadata": {
        "id": "Bx-_7uqc8zkk",
        "colab_type": "code",
        "colab": {
          "base_uri": "https://localhost:8080/",
          "height": 34
        },
        "outputId": "eb256a12-c84a-4210-b5b9-755ab04fd603"
      },
      "source": [
        "compute_avg_return(eval_env, random_policy, num_eval_episodes)"
      ],
      "execution_count": 93,
      "outputs": [
        {
          "output_type": "execute_result",
          "data": {
            "text/plain": [
              "3992.1"
            ]
          },
          "metadata": {
            "tags": []
          },
          "execution_count": 93
        }
      ]
    },
    {
      "cell_type": "code",
      "metadata": {
        "id": "yy53HXbV9y4Z",
        "colab_type": "code",
        "colab": {}
      },
      "source": [
        "replay_buffer = tf_uniform_replay_buffer.TFUniformReplayBuffer(\n",
        "    data_spec=agent.collect_data_spec,\n",
        "    batch_size=train_env.batch_size,\n",
        "    max_length=replay_buffer_max_length)"
      ],
      "execution_count": 94,
      "outputs": []
    },
    {
      "cell_type": "code",
      "metadata": {
        "id": "cjoz2My7934F",
        "colab_type": "code",
        "colab": {
          "base_uri": "https://localhost:8080/",
          "height": 54
        },
        "outputId": "35d32866-9964-452e-8ce9-17cf861d2e71"
      },
      "source": [
        "agent.collect_data_spec"
      ],
      "execution_count": 95,
      "outputs": [
        {
          "output_type": "execute_result",
          "data": {
            "text/plain": [
              "Trajectory(step_type=TensorSpec(shape=(), dtype=tf.int32, name='step_type'), observation=BoundedTensorSpec(shape=(1, 20, 20), dtype=tf.int32, name='observation', minimum=array(0, dtype=int32), maximum=array(3, dtype=int32)), action=BoundedTensorSpec(shape=(), dtype=tf.int32, name='action', minimum=array(0, dtype=int32), maximum=array(3, dtype=int32)), policy_info=(), next_step_type=TensorSpec(shape=(), dtype=tf.int32, name='step_type'), reward=TensorSpec(shape=(), dtype=tf.float32, name='reward'), discount=BoundedTensorSpec(shape=(), dtype=tf.float32, name='discount', minimum=array(0., dtype=float32), maximum=array(1., dtype=float32)))"
            ]
          },
          "metadata": {
            "tags": []
          },
          "execution_count": 95
        }
      ]
    },
    {
      "cell_type": "code",
      "metadata": {
        "id": "mON3RjbZ98Sv",
        "colab_type": "code",
        "colab": {}
      },
      "source": [
        "\n",
        "def collect_step(environment, policy, buffer):\n",
        "  time_step = environment.current_time_step()\n",
        "  action_step = policy.action(time_step)\n",
        "  next_time_step = environment.step(action_step.action)\n",
        "  traj = trajectory.from_transition(time_step, action_step, next_time_step)\n",
        "\n",
        "  # Add trajectory to the replay buffer\n",
        "  buffer.add_batch(traj)\n",
        "\n",
        "def collect_data(env, policy, buffer, steps):\n",
        "  for _ in range(steps):\n",
        "    collect_step(env, policy, buffer)\n",
        "\n",
        "collect_data(train_env, random_policy, replay_buffer, steps=100)\n",
        "\n",
        "# This loop is so common in RL, that we provide standard implementations. \n",
        "# For more details see the drivers module.\n",
        "# https://www.tensorflow.org/agents/api_docs/python/tf_agents/drivers"
      ],
      "execution_count": 96,
      "outputs": []
    },
    {
      "cell_type": "code",
      "metadata": {
        "id": "R1mvLZcZ-FPB",
        "colab_type": "code",
        "colab": {
          "base_uri": "https://localhost:8080/",
          "height": 54
        },
        "outputId": "90237777-93c3-4695-cbf3-3cebd84a7429"
      },
      "source": [
        "# Dataset generates trajectories with shape [Bx2x...]\n",
        "dataset = replay_buffer.as_dataset(\n",
        "    num_parallel_calls=3, \n",
        "    sample_batch_size=batch_size, \n",
        "    num_steps=2).prefetch(3)\n",
        "\n",
        "\n",
        "dataset"
      ],
      "execution_count": 97,
      "outputs": [
        {
          "output_type": "execute_result",
          "data": {
            "text/plain": [
              "<PrefetchDataset shapes: (Trajectory(step_type=(64, 2), observation=(64, 2, 1, 20, 20), action=(64, 2), policy_info=(), next_step_type=(64, 2), reward=(64, 2), discount=(64, 2)), BufferInfo(ids=(64, 2), probabilities=(64,))), types: (Trajectory(step_type=tf.int32, observation=tf.int32, action=tf.int32, policy_info=(), next_step_type=tf.int32, reward=tf.float32, discount=tf.float32), BufferInfo(ids=tf.int64, probabilities=tf.float32))>"
            ]
          },
          "metadata": {
            "tags": []
          },
          "execution_count": 97
        }
      ]
    },
    {
      "cell_type": "code",
      "metadata": {
        "id": "DHzfXH7r-Hg4",
        "colab_type": "code",
        "colab": {
          "base_uri": "https://localhost:8080/",
          "height": 34
        },
        "outputId": "dfd063ae-a1ec-4a78-9a54-003ecf377751"
      },
      "source": [
        "iterator = iter(dataset)\n",
        "\n",
        "print(iterator)\n"
      ],
      "execution_count": 98,
      "outputs": [
        {
          "output_type": "stream",
          "text": [
            "<tensorflow.python.data.ops.iterator_ops.OwnedIterator object at 0x7fcde780ac88>\n"
          ],
          "name": "stdout"
        }
      ]
    },
    {
      "cell_type": "code",
      "metadata": {
        "id": "PKPsqF7i-P7t",
        "colab_type": "code",
        "colab": {
          "base_uri": "https://localhost:8080/",
          "height": 1000
        },
        "outputId": "288b9d8f-6551-4509-fcaf-dbab4b5a29f7"
      },
      "source": [
        "\n",
        "try:\n",
        "  %%time\n",
        "except:\n",
        "  pass\n",
        "\n",
        "# (Optional) Optimize by wrapping some of the code in a graph using TF function.\n",
        "agent.train = common.function(agent.train)\n",
        "\n",
        "# Reset the train step\n",
        "agent.train_step_counter.assign(0)\n",
        "\n",
        "# Evaluate the agent's policy once before training.\n",
        "avg_return = compute_avg_return(eval_env, agent.policy, num_eval_episodes)\n",
        "returns = [avg_return]\n",
        "\n",
        "for _ in range(num_iterations):\n",
        "\n",
        "  # Collect a few steps using collect_policy and save to the replay buffer.\n",
        "  for _ in range(collect_steps_per_iteration):\n",
        "    collect_step(train_env, agent.collect_policy, replay_buffer)\n",
        "\n",
        "  # Sample a batch of data from the buffer and update the agent's network.\n",
        "  experience, unused_info = next(iterator)\n",
        "  train_loss = agent.train(experience).loss\n",
        "\n",
        "  step = agent.train_step_counter.numpy()\n",
        "\n",
        "  if step % log_interval == 0:\n",
        "    print('step = {0}: loss = {1}'.format(step, train_loss))\n",
        "\n",
        "  if step % eval_interval == 0:\n",
        "    avg_return = compute_avg_return(eval_env, agent.policy, num_eval_episodes)\n",
        "    print('step = {0}: Average Return = {1}'.format(step, avg_return))\n",
        "    returns.append(avg_return)"
      ],
      "execution_count": 105,
      "outputs": [
        {
          "output_type": "stream",
          "text": [
            "CPU times: user 4 µs, sys: 0 ns, total: 4 µs\n",
            "Wall time: 7.15 µs\n",
            "step = 200: loss = 20114.48046875\n",
            "step = 400: loss = 12277.94140625\n",
            "step = 600: loss = 21632.0234375\n",
            "step = 800: loss = 11246.0048828125\n",
            "step = 1000: loss = 18427.0859375\n",
            "step = 1000: Average Return = 2303.89990234375\n",
            "step = 1200: loss = 18524.015625\n",
            "step = 1400: loss = 8846.548828125\n",
            "step = 1600: loss = 22177.12890625\n",
            "step = 1800: loss = 10461.724609375\n",
            "step = 2000: loss = 10069.0234375\n",
            "step = 2000: Average Return = 2544.300048828125\n",
            "step = 2200: loss = 11069.119140625\n",
            "step = 2400: loss = 21514.2578125\n",
            "step = 2600: loss = 17670.603515625\n",
            "step = 2800: loss = 13007.25\n",
            "step = 3000: loss = 18162.19140625\n",
            "step = 3000: Average Return = 1777.5999755859375\n",
            "step = 3200: loss = 14957.9736328125\n",
            "step = 3400: loss = 13599.986328125\n",
            "step = 3600: loss = 20274.029296875\n",
            "step = 3800: loss = 28430.296875\n",
            "step = 4000: loss = 15476.6787109375\n",
            "step = 4000: Average Return = 2058.39990234375\n",
            "step = 4200: loss = 21282.49609375\n",
            "step = 4400: loss = 9616.14453125\n",
            "step = 4600: loss = 21516.86328125\n",
            "step = 4800: loss = 33632.11328125\n",
            "step = 5000: loss = 30379.345703125\n",
            "step = 5000: Average Return = 624.0\n",
            "step = 5200: loss = 19162.94921875\n",
            "step = 5400: loss = 15609.7734375\n",
            "step = 5600: loss = 29273.833984375\n",
            "step = 5800: loss = 22541.177734375\n",
            "step = 6000: loss = 40815.1875\n",
            "step = 6000: Average Return = 1971.300048828125\n",
            "step = 6200: loss = 30598.5859375\n",
            "step = 6400: loss = 17744.876953125\n",
            "step = 6600: loss = 25622.048828125\n",
            "step = 6800: loss = 14509.5126953125\n",
            "step = 7000: loss = 22238.91796875\n",
            "step = 7000: Average Return = 572.0\n",
            "step = 7200: loss = 20998.197265625\n",
            "step = 7400: loss = 15799.90234375\n",
            "step = 7600: loss = 22418.703125\n",
            "step = 7800: loss = 29738.802734375\n",
            "step = 8000: loss = 27395.94921875\n",
            "step = 8000: Average Return = 2240.5\n",
            "step = 8200: loss = 32209.435546875\n",
            "step = 8400: loss = 25812.337890625\n",
            "step = 8600: loss = 22053.916015625\n",
            "step = 8800: loss = 13034.25\n",
            "step = 9000: loss = 16590.197265625\n",
            "step = 9000: Average Return = 1800.199951171875\n",
            "step = 9200: loss = 29760.7265625\n",
            "step = 9400: loss = 31505.35546875\n",
            "step = 9600: loss = 44148.55078125\n",
            "step = 9800: loss = 30036.373046875\n",
            "step = 10000: loss = 28606.30859375\n",
            "step = 10000: Average Return = 1618.5\n",
            "step = 10200: loss = 47058.609375\n",
            "step = 10400: loss = 44133.3359375\n",
            "step = 10600: loss = 35057.0625\n",
            "step = 10800: loss = 31348.3515625\n",
            "step = 11000: loss = 13894.03125\n",
            "step = 11000: Average Return = 1672.800048828125\n",
            "step = 11200: loss = 23558.515625\n",
            "step = 11400: loss = 32433.609375\n",
            "step = 11600: loss = 37783.65625\n",
            "step = 11800: loss = 18649.138671875\n",
            "step = 12000: loss = 29975.791015625\n",
            "step = 12000: Average Return = 572.0\n",
            "step = 12200: loss = 17209.580078125\n",
            "step = 12400: loss = 13246.515625\n",
            "step = 12600: loss = 28242.32421875\n",
            "step = 12800: loss = 35812.19140625\n",
            "step = 13000: loss = 55127.8125\n",
            "step = 13000: Average Return = 1578.0999755859375\n",
            "step = 13200: loss = 40141.4609375\n",
            "step = 13400: loss = 65145.8515625\n",
            "step = 13600: loss = 14712.763671875\n",
            "step = 13800: loss = 23827.12109375\n",
            "step = 14000: loss = 25769.154296875\n",
            "step = 14000: Average Return = 1962.300048828125\n",
            "step = 14200: loss = 24333.40625\n",
            "step = 14400: loss = 16924.6640625\n",
            "step = 14600: loss = 16498.58203125\n",
            "step = 14800: loss = 31329.1796875\n",
            "step = 15000: loss = 24051.248046875\n",
            "step = 15000: Average Return = 1982.199951171875\n",
            "step = 15200: loss = 25733.89453125\n",
            "step = 15400: loss = 22174.8125\n",
            "step = 15600: loss = 31748.619140625\n",
            "step = 15800: loss = 8910.16015625\n",
            "step = 16000: loss = 30759.994140625\n",
            "step = 16000: Average Return = 572.0\n",
            "step = 16200: loss = 41011.17578125\n",
            "step = 16400: loss = 26559.67578125\n",
            "step = 16600: loss = 46380.5\n",
            "step = 16800: loss = 34784.62109375\n",
            "step = 17000: loss = 38532.78125\n",
            "step = 17000: Average Return = 1477.5999755859375\n",
            "step = 17200: loss = 25231.3984375\n",
            "step = 17400: loss = 18986.408203125\n",
            "step = 17600: loss = 15910.19921875\n",
            "step = 17800: loss = 30949.505859375\n",
            "step = 18000: loss = 32720.5546875\n",
            "step = 18000: Average Return = 1968.0\n",
            "step = 18200: loss = 30947.736328125\n",
            "step = 18400: loss = 30310.91015625\n",
            "step = 18600: loss = 36473.6171875\n",
            "step = 18800: loss = 23441.263671875\n",
            "step = 19000: loss = 36944.2734375\n",
            "step = 19000: Average Return = 1756.300048828125\n",
            "step = 19200: loss = 40576.9375\n",
            "step = 19400: loss = 35834.9921875\n",
            "step = 19600: loss = 25271.923828125\n",
            "step = 19800: loss = 16838.4609375\n",
            "step = 20000: loss = 51318.328125\n",
            "step = 20000: Average Return = 905.0999755859375\n",
            "step = 20200: loss = 24313.83203125\n",
            "step = 20400: loss = 26924.3671875\n",
            "step = 20600: loss = 29136.171875\n",
            "step = 20800: loss = 42512.47265625\n",
            "step = 21000: loss = 32672.82421875\n",
            "step = 21000: Average Return = 1923.199951171875\n",
            "step = 21200: loss = 27524.41796875\n",
            "step = 21400: loss = 12458.2451171875\n",
            "step = 21600: loss = 24208.7109375\n",
            "step = 21800: loss = 19708.259765625\n",
            "step = 22000: loss = 18755.40234375\n",
            "step = 22000: Average Return = 1060.300048828125\n",
            "step = 22200: loss = 16885.20703125\n",
            "step = 22400: loss = 90351.171875\n",
            "step = 22600: loss = 29549.517578125\n",
            "step = 22800: loss = 29944.4921875\n",
            "step = 23000: loss = 41715.86328125\n",
            "step = 23000: Average Return = 1376.199951171875\n",
            "step = 23200: loss = 44402.859375\n",
            "step = 23400: loss = 40597.3828125\n",
            "step = 23600: loss = 40119.0546875\n",
            "step = 23800: loss = 31207.630859375\n",
            "step = 24000: loss = 22314.69140625\n",
            "step = 24000: Average Return = 1983.0\n",
            "step = 24200: loss = 32777.0390625\n",
            "step = 24400: loss = 32491.265625\n",
            "step = 24600: loss = 30804.87890625\n",
            "step = 24800: loss = 27093.705078125\n",
            "step = 25000: loss = 39628.39453125\n",
            "step = 25000: Average Return = 1046.0\n",
            "step = 25200: loss = 29991.078125\n",
            "step = 25400: loss = 33537.2890625\n",
            "step = 25600: loss = 27421.486328125\n",
            "step = 25800: loss = 34692.37109375\n",
            "step = 26000: loss = 48180.8828125\n",
            "step = 26000: Average Return = 1492.9000244140625\n",
            "step = 26200: loss = 40549.72265625\n",
            "step = 26400: loss = 29568.91796875\n",
            "step = 26600: loss = 28880.91796875\n",
            "step = 26800: loss = 24622.123046875\n",
            "step = 27000: loss = 30630.35546875\n",
            "step = 27000: Average Return = 1642.5999755859375\n",
            "step = 27200: loss = 74880.671875\n",
            "step = 27400: loss = 38263.015625\n",
            "step = 27600: loss = 28984.06640625\n",
            "step = 27800: loss = 15328.84765625\n",
            "step = 28000: loss = 38774.2734375\n",
            "step = 28000: Average Return = 1546.0\n",
            "step = 28200: loss = 39831.2890625\n",
            "step = 28400: loss = 52324.453125\n",
            "step = 28600: loss = 31521.380859375\n",
            "step = 28800: loss = 23949.984375\n",
            "step = 29000: loss = 34411.15234375\n",
            "step = 29000: Average Return = 1635.699951171875\n",
            "step = 29200: loss = 47485.0703125\n",
            "step = 29400: loss = 16198.4921875\n",
            "step = 29600: loss = 17867.908203125\n",
            "step = 29800: loss = 44824.07421875\n",
            "step = 30000: loss = 33060.921875\n",
            "step = 30000: Average Return = 1726.9000244140625\n",
            "step = 30200: loss = 20636.15625\n",
            "step = 30400: loss = 25327.40234375\n",
            "step = 30600: loss = 25034.4296875\n",
            "step = 30800: loss = 23629.1484375\n",
            "step = 31000: loss = 23739.36328125\n",
            "step = 31000: Average Return = 1659.699951171875\n",
            "step = 31200: loss = 46699.4609375\n",
            "step = 31400: loss = 22783.63671875\n",
            "step = 31600: loss = 25164.34375\n",
            "step = 31800: loss = 84877.84375\n",
            "step = 32000: loss = 23364.279296875\n",
            "step = 32000: Average Return = 1384.5999755859375\n",
            "step = 32200: loss = 44981.48046875\n",
            "step = 32400: loss = 33175.96875\n",
            "step = 32600: loss = 43599.76953125\n",
            "step = 32800: loss = 20005.900390625\n",
            "step = 33000: loss = 38956.40234375\n",
            "step = 33000: Average Return = 1459.300048828125\n",
            "step = 33200: loss = 32569.17578125\n",
            "step = 33400: loss = 66347.875\n",
            "step = 33600: loss = 25572.103515625\n",
            "step = 33800: loss = 21628.9375\n",
            "step = 34000: loss = 34245.0546875\n",
            "step = 34000: Average Return = 1743.0999755859375\n",
            "step = 34200: loss = 23070.45703125\n",
            "step = 34400: loss = 40598.96484375\n",
            "step = 34600: loss = 15817.044921875\n",
            "step = 34800: loss = 14350.33984375\n",
            "step = 35000: loss = 23476.03125\n",
            "step = 35000: Average Return = 1667.199951171875\n",
            "step = 35200: loss = 44293.24609375\n",
            "step = 35400: loss = 27949.36328125\n",
            "step = 35600: loss = 60243.6640625\n",
            "step = 35800: loss = 35185.38671875\n",
            "step = 36000: loss = 25807.498046875\n",
            "step = 36000: Average Return = 1742.5\n",
            "step = 36200: loss = 15572.205078125\n",
            "step = 36400: loss = 21713.662109375\n",
            "step = 36600: loss = 22492.46875\n",
            "step = 36800: loss = 20780.95703125\n",
            "step = 37000: loss = 36522.92578125\n",
            "step = 37000: Average Return = 1627.5\n",
            "step = 37200: loss = 33379.2890625\n",
            "step = 37400: loss = 43068.9765625\n",
            "step = 37600: loss = 35706.625\n",
            "step = 37800: loss = 33769.33203125\n",
            "step = 38000: loss = 29430.6875\n",
            "step = 38000: Average Return = 1584.4000244140625\n",
            "step = 38200: loss = 23476.59765625\n",
            "step = 38400: loss = 40498.4453125\n",
            "step = 38600: loss = 44358.1484375\n",
            "step = 38800: loss = 61151.859375\n",
            "step = 39000: loss = 43634.109375\n",
            "step = 39000: Average Return = 1099.4000244140625\n",
            "step = 39200: loss = 20643.2109375\n",
            "step = 39400: loss = 35786.890625\n",
            "step = 39600: loss = 33112.7109375\n",
            "step = 39800: loss = 28331.26171875\n",
            "step = 40000: loss = 14879.544921875\n",
            "step = 40000: Average Return = 1412.5\n",
            "step = 40200: loss = 58067.2734375\n",
            "step = 40400: loss = 21384.59765625\n",
            "step = 40600: loss = 33045.30078125\n",
            "step = 40800: loss = 15573.02734375\n",
            "step = 41000: loss = 13231.83984375\n",
            "step = 41000: Average Return = 1633.0\n",
            "step = 41200: loss = 39445.1796875\n",
            "step = 41400: loss = 20702.130859375\n",
            "step = 41600: loss = 59571.29296875\n",
            "step = 41800: loss = 50107.43359375\n",
            "step = 42000: loss = 34191.421875\n",
            "step = 42000: Average Return = 843.4000244140625\n",
            "step = 42200: loss = 27957.1015625\n",
            "step = 42400: loss = 44839.73828125\n",
            "step = 42600: loss = 29660.826171875\n",
            "step = 42800: loss = 41308.38671875\n",
            "step = 43000: loss = 29932.853515625\n",
            "step = 43000: Average Return = 1046.199951171875\n",
            "step = 43200: loss = 16917.759765625\n",
            "step = 43400: loss = 34298.10546875\n",
            "step = 43600: loss = 38268.40625\n",
            "step = 43800: loss = 48529.1875\n",
            "step = 44000: loss = 54798.953125\n",
            "step = 44000: Average Return = 1633.9000244140625\n",
            "step = 44200: loss = 18986.32421875\n",
            "step = 44400: loss = 41649.5390625\n",
            "step = 44600: loss = 23181.2109375\n",
            "step = 44800: loss = 39437.5859375\n",
            "step = 45000: loss = 50178.7421875\n",
            "step = 45000: Average Return = 1613.800048828125\n",
            "step = 45200: loss = 26631.29296875\n",
            "step = 45400: loss = 34450.3828125\n",
            "step = 45600: loss = 25207.166015625\n",
            "step = 45800: loss = 29186.599609375\n",
            "step = 46000: loss = 55882.1953125\n",
            "step = 46000: Average Return = 1828.300048828125\n",
            "step = 46200: loss = 41775.828125\n",
            "step = 46400: loss = 56137.17578125\n",
            "step = 46600: loss = 48766.9140625\n",
            "step = 46800: loss = 38102.34375\n",
            "step = 47000: loss = 19414.517578125\n",
            "step = 47000: Average Return = 1851.300048828125\n",
            "step = 47200: loss = 26409.8984375\n",
            "step = 47400: loss = 23630.0\n",
            "step = 47600: loss = 48565.71875\n",
            "step = 47800: loss = 36093.42578125\n",
            "step = 48000: loss = 37668.91796875\n",
            "step = 48000: Average Return = 1453.0\n",
            "step = 48200: loss = 96654.53125\n",
            "step = 48400: loss = 33284.40234375\n",
            "step = 48600: loss = 25304.197265625\n",
            "step = 48800: loss = 32970.9921875\n",
            "step = 49000: loss = 32610.96875\n",
            "step = 49000: Average Return = 1603.0\n",
            "step = 49200: loss = 41316.859375\n",
            "step = 49400: loss = 44029.3125\n",
            "step = 49600: loss = 61649.515625\n",
            "step = 49800: loss = 56168.62109375\n",
            "step = 50000: loss = 21212.66015625\n",
            "step = 50000: Average Return = 1771.0\n"
          ],
          "name": "stdout"
        }
      ]
    },
    {
      "cell_type": "code",
      "metadata": {
        "id": "fw1G_BDu-Z4W",
        "colab_type": "code",
        "colab": {
          "base_uri": "https://localhost:8080/",
          "height": 296
        },
        "outputId": "fc68dfe2-a7a1-4569-82f0-a8d96dff4233"
      },
      "source": [
        "\n",
        "\n",
        "iterations = range(0, num_iterations + 1, eval_interval)\n",
        "plt.plot(iterations, returns)\n",
        "plt.ylabel('Average Return')\n",
        "plt.xlabel('Iterations')"
      ],
      "execution_count": 106,
      "outputs": [
        {
          "output_type": "execute_result",
          "data": {
            "text/plain": [
              "Text(0.5, 0, 'Iterations')"
            ]
          },
          "metadata": {
            "tags": []
          },
          "execution_count": 106
        },
        {
          "output_type": "display_data",
          "data": {
            "image/png": "[encoded data removed]",
            "text/plain": [
              "<Figure size 432x288 with 1 Axes>"
            ]
          },
          "metadata": {
            "tags": [],
            "needs_background": "light"
          }
        }
      ]
    },
    {
      "cell_type": "code",
      "metadata": {
        "id": "1x7ioAelWGSe",
        "colab_type": "code",
        "colab": {}
      },
      "source": [
        "def embed_mp4(filename):\n",
        "  \"\"\"Embeds an mp4 file in the notebook.\"\"\"\n",
        "  video = open(filename,'rb').read()\n",
        "  b64 = base64.b64encode(video)\n",
        "  tag = '''\n",
        "  <video width=\"640\" height=\"480\" controls>\n",
        "    <source src=\"data:video/mp4;base64,{0}\" type=\"video/mp4\">\n",
        "  Your browser does not support the video tag.\n",
        "  </video>'''.format(b64.decode())\n",
        "\n",
        "  return IPython.display.HTML(tag)"
      ],
      "execution_count": 101,
      "outputs": []
    },
    {
      "cell_type": "code",
      "metadata": {
        "id": "WEY_mJbLWVSI",
        "colab_type": "code",
        "colab": {
          "base_uri": "https://localhost:8080/",
          "height": 501
        },
        "outputId": "79751490-fce2-44c8-a2ab-2e555177727c"
      },
      "source": [
        "def create_policy_eval_video(policy, filename, num_episodes=1, fps=30):\n",
        "  filename = filename + \".mp4\"\n",
        "  with imageio.get_writer(filename, fps=fps) as video:\n",
        "    for _ in range(num_episodes):\n",
        "      time_step = eval_env.reset()\n",
        "      video.append_data(eval_py_env.render())\n",
        "      while not time_step.is_last():\n",
        "        action_step = policy.action(time_step)\n",
        "        time_step = eval_env.step(action_step.action)\n",
        "        video.append_data(eval_py_env.render())\n",
        "  return embed_mp4(filename)\n",
        "\n",
        "\n",
        "\n",
        "\n",
        "create_policy_eval_video(agent.policy, \"trained-agent\")"
      ],
      "execution_count": 107,
      "outputs": [
        {
          "output_type": "execute_result",
          "data": {
            "text/html": [
              "\n",
              "  <video width=\"640\" height=\"480\" controls>\n",
              "    <source src=\"data:video/mp4;base64,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\" type=\"video/mp4\">\n",
              "  Your browser does not support the video tag.\n",
              "  </video>"
            ],
            "text/plain": [
              "<IPython.core.display.HTML object>"
            ]
          },
          "metadata": {
            "tags": []
          },
          "execution_count": 107
        }
      ]
    },
    {
      "cell_type": "code",
      "metadata": {
        "id": "3PqWT6g9WZAl",
        "colab_type": "code",
        "colab": {
          "base_uri": "https://localhost:8080/",
          "height": 501
        },
        "outputId": "cb738e71-91cb-4aee-8fc6-72e82aa77ce7"
      },
      "source": [
        "create_policy_eval_video(random_policy, \"random-agent\")"
      ],
      "execution_count": 103,
      "outputs": [
        {
          "output_type": "execute_result",
          "data": {
            "text/html": [
              "\n",
              "  <video width=\"640\" height=\"480\" controls>\n",
              "    <source src=\"data:video/mp4;base64,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\" type=\"video/mp4\">\n",
              "  Your browser does not support the video tag.\n",
              "  </video>"
            ],
            "text/plain": [
              "<IPython.core.display.HTML object>"
            ]
          },
          "metadata": {
            "tags": []
          },
          "execution_count": 103
        }
      ]
    }
  ]
}